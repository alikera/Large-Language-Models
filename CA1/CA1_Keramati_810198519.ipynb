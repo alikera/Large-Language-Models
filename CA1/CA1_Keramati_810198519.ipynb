{
  "cells": [
    {
      "cell_type": "markdown",
      "metadata": {
        "id": "BPOsZP3eGKmj"
      },
      "source": [
        "## CA 1, LLMs Spring 2024\n",
        "\n",
        "- **Name:** Ali Keramati\n",
        "- **Student ID:** 810198519\n",
        "\n",
        "---\n",
        "### This is due on **April 2nd, 2024**, submitted via [elearn](https://elearn.ut.ac.ir/).\n",
        "#### Your submission should be named using the following format: `CA1_LASTNAME_STUDENTID.ipynb`.\n",
        "\n",
        "### **IMPORTANT**: After copying this notebook to your Google Drive, please paste a link to it below. To get a publicly-accessible link, hit the *Share* button at the top right, then click \"Get shareable link\" and copy over the result. If you fail to do this, you will receive no credit for this homework!\n",
        "# ***LINK: *https://colab.research.google.com/drive/1zk7s2bBY-c1YXrYPSByki8a3TU-iEWTH?usp=sharing****\n",
        "\n",
        "---\n",
        "\n",
        "##### *How to do this problem set:*\n",
        "\n",
        "- Some questions require writing Python code and computing results, and the rest of them have written answers. For coding problems, you will have to fill out all code blocks that say `YOUR CODE HERE`.\n",
        "\n",
        "- For text-based answers, you should replace the text that says \"Write your answer here...\" with your actual answer.\n",
        "\n",
        "- There is no penalty for using AI assistance on this homework as long as you fully disclose it in the final cell of this notebook (this includes storing any prompts that you feed to large language models). That said, anyone caught using AI assistance without proper disclosure will receive a zero on the assignment (we have several automatic tools to detect such cases). We're literally allowing you to use it with no limitations, so there is no reason to lie!\n",
        "\n",
        "---\n",
        "\n",
        "##### *Academic honesty*\n",
        "\n",
        "- We will audit the Colab notebooks from a set number of students, chosen at random. The audits will check that the code you wrote actually generates the answers in your notebook. If you turn in correct answers on your notebook without code that actually generates those answers, we will consider this a serious case of cheating.\n",
        "\n",
        "- We will also run automatic checks of Colab notebooks for plagiarism. Copying code from others is also considered a serious case of cheating.\n",
        "\n",
        "---\n",
        "\n",
        "If you have any further questions or concerns, contact the TA via email:\n",
        "namazifard@ut.ac.ir\n",
        "\n",
        "---"
      ]
    },
    {
      "cell_type": "markdown",
      "metadata": {
        "id": "sIGZBVK96ARd"
      },
      "source": [
        "# Part 1: Word Embeddings and Masked LMs (40 points)"
      ]
    },
    {
      "cell_type": "markdown",
      "metadata": {
        "id": "BgRQHomu9VDV"
      },
      "source": [
        "### Question 1.1 (5 points)"
      ]
    },
    {
      "cell_type": "markdown",
      "metadata": {
        "id": "b-o6W_La6E6V"
      },
      "source": [
        "In this part, we will start with `GloVe` [(Pennington et al.)](https://aclanthology.org/D14-1162.pdf) word embeddings. `GloVe` provides low-dimensional dense vectors representing words' semantics. The distance between `GloVe` embeddings captures the semantic relationships of words. We are using the `Gensim` library for  working with `GloVe` embeddings. Let's install `Gensim` and download the 6B token model. Also, we should unzip the model file. Running the cell below could take a few minutes."
      ]
    },
    {
      "cell_type": "code",
      "execution_count": null,
      "metadata": {
        "id": "OeSDN3i858zo",
        "colab": {
          "base_uri": "https://localhost:8080/"
        },
        "outputId": "a8fe270f-4151-4e1a-d27b-248f455b211f"
      },
      "outputs": [
        {
          "output_type": "stream",
          "name": "stdout",
          "text": [
            "Requirement already satisfied: gensim in /usr/local/lib/python3.10/dist-packages (4.3.2)\n",
            "Requirement already satisfied: numpy>=1.18.5 in /usr/local/lib/python3.10/dist-packages (from gensim) (1.25.2)\n",
            "Requirement already satisfied: scipy>=1.7.0 in /usr/local/lib/python3.10/dist-packages (from gensim) (1.11.4)\n",
            "Requirement already satisfied: smart-open>=1.8.1 in /usr/local/lib/python3.10/dist-packages (from gensim) (6.4.0)\n",
            "--2024-03-31 08:56:48--  https://nlp.stanford.edu/data/glove.6B.zip\n",
            "Resolving nlp.stanford.edu (nlp.stanford.edu)... 171.64.67.140\n",
            "Connecting to nlp.stanford.edu (nlp.stanford.edu)|171.64.67.140|:443... connected.\n",
            "HTTP request sent, awaiting response... 301 Moved Permanently\n",
            "Location: https://downloads.cs.stanford.edu/nlp/data/glove.6B.zip [following]\n",
            "--2024-03-31 08:56:49--  https://downloads.cs.stanford.edu/nlp/data/glove.6B.zip\n",
            "Resolving downloads.cs.stanford.edu (downloads.cs.stanford.edu)... 171.64.64.22\n",
            "Connecting to downloads.cs.stanford.edu (downloads.cs.stanford.edu)|171.64.64.22|:443... connected.\n",
            "HTTP request sent, awaiting response... 200 OK\n",
            "Length: 862182613 (822M) [application/zip]\n",
            "Saving to: ‘glove.6B.zip’\n",
            "\n",
            "glove.6B.zip        100%[===================>] 822.24M  5.02MB/s    in 2m 39s  \n",
            "\n",
            "2024-03-31 08:59:28 (5.19 MB/s) - ‘glove.6B.zip’ saved [862182613/862182613]\n",
            "\n",
            "Archive:  /content/glove.6B.zip\n",
            "  inflating: glove.6B.50d.txt        \n",
            "  inflating: glove.6B.100d.txt       \n",
            "  inflating: glove.6B.200d.txt       \n",
            "  inflating: glove.6B.300d.txt       \n"
          ]
        }
      ],
      "source": [
        "!pip install gensim\n",
        "!wget https://nlp.stanford.edu/data/glove.6B.zip\n",
        "!unzip \"/content/glove.6B.zip\""
      ]
    },
    {
      "cell_type": "markdown",
      "metadata": {
        "id": "bKVZeILG6KUu"
      },
      "source": [
        "We are using the model file with 6 billion tokens containing 200-dimensional vectors. Running the cell below will create the word embedding model."
      ]
    },
    {
      "cell_type": "code",
      "execution_count": null,
      "metadata": {
        "id": "TrumleB96NFq"
      },
      "outputs": [],
      "source": [
        "from gensim.scripts.glove2word2vec import glove2word2vec\n",
        "from gensim.models import KeyedVectors\n",
        "\n",
        "glove_input_file = 'glove.6B.200d.txt'\n",
        "model = KeyedVectors.load_word2vec_format(glove_input_file, binary=False, no_header=True)"
      ]
    },
    {
      "cell_type": "markdown",
      "metadata": {
        "id": "XdbyaunH6HLu"
      },
      "source": [
        "Try to write the 5 most similar words to **computer**, **football**, **ocean**, **music**, and **artificial** along with their similarity scores."
      ]
    },
    {
      "cell_type": "code",
      "execution_count": null,
      "metadata": {
        "id": "7q5ZZCk36Qqt",
        "colab": {
          "base_uri": "https://localhost:8080/"
        },
        "outputId": "1a4298b1-dcbb-429d-8bb5-6187a3e9921b"
      },
      "outputs": [
        {
          "output_type": "stream",
          "name": "stdout",
          "text": [
            "Similar words to computer :\n",
            "computers : 0.8357723951339722\n",
            "software : 0.7828460335731506\n",
            "technology : 0.6907660961151123\n",
            "pc : 0.6647984385490417\n",
            "systems : 0.658431887626648\n",
            "\n",
            "Similar words to football :\n",
            "soccer : 0.8105178475379944\n",
            "basketball : 0.7896140813827515\n",
            "league : 0.716710090637207\n",
            "baseball : 0.7023130655288696\n",
            "rugby : 0.7006953358650208\n",
            "\n",
            "Similar words to ocean :\n",
            "sea : 0.7277445197105408\n",
            "waters : 0.724154531955719\n",
            "coast : 0.6972916126251221\n",
            "atlantic : 0.6918381452560425\n",
            "seas : 0.6812019348144531\n",
            "\n",
            "Similar words to music :\n",
            "musical : 0.7338810563087463\n",
            "songs : 0.7253574728965759\n",
            "pop : 0.6906009912490845\n",
            "musicians : 0.6876541972160339\n",
            "recording : 0.6848656535148621\n",
            "\n",
            "Similar words to artificial :\n",
            "natural : 0.5050912499427795\n",
            "insemination : 0.4972018897533417\n",
            "man-made : 0.4853343069553375\n",
            "synthetic : 0.4769701659679413\n",
            "creating : 0.4709817171096802\n",
            "\n"
          ]
        }
      ],
      "source": [
        "words = ['computer', 'football', 'ocean', 'music', 'artificial']\n",
        "\n",
        "for word in words:\n",
        "    if word in model.key_to_index:\n",
        "        similar_words = model.most_similar(word, topn=5)\n",
        "        print(\"Similar words to\", word, \":\")\n",
        "        for similar_word, score in similar_words:\n",
        "            print(similar_word, \":\", score)\n",
        "        print()\n",
        "    else:\n",
        "        print(word, \"is not in the vocabulary.\\n\")"
      ]
    },
    {
      "cell_type": "markdown",
      "metadata": {
        "id": "bYKLguwx6df1"
      },
      "source": [
        "**Analogy** in word embeddings refers to performing algebraic operations on vectors to capture the most similar words to the resulting embedding. One of the most famous examples is the analogy *king - man + woman = queen*. In `Gensim`, we can apply analogies using the `most_similar` function. The `positive` argument receives a list of words and applies addition between their embeddings, while the `negative` argument receives a list of words to subtract their embeddings from the result. In our example, *king* and *woman* are in the positive list, while *man* is in the negative list.\n",
        "\n",
        "Let's explore more analogies and the power of `GloVe` embeddings. Write down five other analogies."
      ]
    },
    {
      "cell_type": "code",
      "execution_count": null,
      "metadata": {
        "id": "2AuwX7p96hnQ",
        "colab": {
          "base_uri": "https://localhost:8080/"
        },
        "outputId": "4056ad88-2fe7-4511-bbdd-4c8787172af1"
      },
      "outputs": [
        {
          "output_type": "stream",
          "name": "stdout",
          "text": [
            "Example 1:\n",
            "Analogy: ['tehran', 'germany'] - ['iran'] = ?\n",
            "Result: berlin \n",
            "\n",
            "Example 2:\n",
            "Analogy: ['waiter', 'she'] - ['he'] = ?\n",
            "Result: waitress \n",
            "\n",
            "Example 3:\n",
            "Analogy: ['bigger', 'small'] - ['big'] = ?\n",
            "Result: smaller \n",
            "\n",
            "Example 4:\n",
            "Analogy: ['play', 'swam'] - ['played'] = ?\n",
            "Result: swim \n",
            "\n",
            "Example 5:\n",
            "Analogy: ['foot', 'books'] - ['feet'] = ?\n",
            "Result: book \n",
            "\n"
          ]
        }
      ],
      "source": [
        "analogies = [\n",
        "    {'positive': ['tehran', 'germany'], 'negative': ['iran']},  # Capital to Country\n",
        "    {'positive': ['waiter', 'she'], 'negative': ['he']},  # Gender Neutralization in Professions\n",
        "    {'positive': ['bigger', 'small'], 'negative': ['big']},  # Comparative to Superlative\n",
        "    {'positive': ['play', 'swam'], 'negative': ['played']},  # Past Tense to Present Tense\n",
        "    {'positive': ['foot', 'books'], 'negative': ['feet']}  # Singular to Plural\n",
        "]\n",
        "\n",
        "colors = ['red']\n",
        "for i, analogy in enumerate(analogies, 1):\n",
        "    positive_words = analogy['positive']\n",
        "    negative_words = analogy['negative']\n",
        "\n",
        "    if all(word in model.key_to_index for word in positive_words + negative_words):\n",
        "        result = model.most_similar(positive=positive_words, negative=negative_words, topn=1)\n",
        "        print(f\"Example {i}:\")\n",
        "        print(\"Analogy:\", positive_words, \"-\", negative_words, \"= ?\")\n",
        "        print(\"Result:\", result[0][0], \"\\n\")\n",
        "    else:\n",
        "        print(f\"Example {i}:\")\n",
        "        print(\"One or more words are not in the vocabulary.\\n\")"
      ]
    },
    {
      "cell_type": "markdown",
      "metadata": {
        "id": "SeuDs79G6ka1"
      },
      "source": [
        "### Question 1.2 (10 points)\n",
        "Let's visualize embeddings! We'll start with the following list of words. Extract the embedding for each word and reduce their dimensionality to 2 using the `t-SNE` [(Van der Maaten et al.)](https://www.jmlr.org/papers/volume9/vandermaaten08a/vandermaaten08a.pdf) algorithm. Then, plot them on a scatter plot with their labels."
      ]
    },
    {
      "cell_type": "code",
      "execution_count": null,
      "metadata": {
        "id": "6Lyv-iKm6niZ",
        "colab": {
          "base_uri": "https://localhost:8080/",
          "height": 718
        },
        "outputId": "1a444cf8-a9c0-4e61-8483-0ef56285a4fd"
      },
      "outputs": [
        {
          "output_type": "display_data",
          "data": {
            "text/plain": [
              "<Figure size 1000x800 with 1 Axes>"
            ],
            "image/png": "[encoded data removed]"
          },
          "metadata": {}
        }
      ],
      "source": [
        "from sklearn.manifold import TSNE\n",
        "import numpy as np\n",
        "import matplotlib.pyplot as plt\n",
        "\n",
        "words = [\n",
        "    \"dolphin\", \"shark\", \"octopus\", \"jellyfish\", \"seahorse\",\n",
        "    \"turtle\", \"clownfish\", \"lobster\", \"starfish\", \"whale\",\n",
        "    \"eagle\", \"sparrow\", \"owl\", \"hummingbird\", \"penguin\",\n",
        "    \"toucan\", \"flamingo\", \"hawk\", \"parrot\", \"swan\",\n",
        "    \"england\", \"brazil\", \"japan\", \"australia\", \"india\",\n",
        "    \"germany\", \"canada\", \"france\", \"mexico\", \"russia\",\n",
        "    \"chicago\", \"paris\", \"tokyo\", \"london\", \"sydney\",\n",
        "    \"istanbul\", \"tehran\", \"cairo\", \"dubai\", \"mumbai\",\n",
        "    \"symphony\", \"jazz\", \"rock\", \"blues\", \"reggae\",\n",
        "    \"hip-hop\", \"country\", \"pop\", \"classical\", \"r&b\"\n",
        "]\n",
        "\n",
        "\n",
        "tsne = TSNE(n_components=2, random_state=0, perplexity=5)\n",
        "embeddings_200d = np.array([model[w.lower()] for w in words])\n",
        "# np.array(embeddings_200d).shape\n",
        "\n",
        "embeddings_2d = tsne.fit_transform(embeddings_200d)\n",
        "\n",
        "plt.figure(figsize=(10, 8))\n",
        "plt.scatter(embeddings_2d[:, 0], embeddings_2d[:, 1], s=200)\n",
        "\n",
        "for i, word in enumerate(words):\n",
        "    plt.annotate(word, xy=(embeddings_2d[i, 0], embeddings_2d[i, 1]), fontsize=8)\n",
        "\n",
        "plt.title('t-SNE Visualization')\n",
        "plt.xlabel('Dimension 1')\n",
        "plt.ylabel('Dimension 2')\n",
        "plt.grid(True)\n",
        "plt.show()"
      ]
    },
    {
      "cell_type": "markdown",
      "metadata": {
        "id": "TKgU9Dmq7JDP"
      },
      "source": [
        "Analyze the plot and clusters of embeddings in a few sentences."
      ]
    },
    {
      "cell_type": "markdown",
      "metadata": {
        "id": "QyF5OBz9O-pK"
      },
      "source": [
        "***We can observe distinct clusters forming based on semantic similarities between words. The embeddings of words belonging to the same category tend to be closer to each other in the embedding space. Impact of perplexity number: Adjusting the perplexity parameter can offer different perspectives on the data, allowing for exploration of both local and global semantic relationships within the embedding space. (low perplexity =  local structure and tighter clustering of similar words)***"
      ]
    },
    {
      "cell_type": "markdown",
      "metadata": {
        "id": "iJp6Kbyx7UNG"
      },
      "source": [
        "### Question 1.3 (15 points)\n",
        "Find the most similar words to **bat** and **charge** in GloVe."
      ]
    },
    {
      "cell_type": "code",
      "execution_count": null,
      "metadata": {
        "id": "nXp1AQtl7hXy",
        "colab": {
          "base_uri": "https://localhost:8080/"
        },
        "outputId": "79109b1a-9141-478e-dfa5-0eddcb7d3382"
      },
      "outputs": [
        {
          "output_type": "stream",
          "name": "stdout",
          "text": [
            "Most similar words to 'bat':\n",
            "bats: 0.691724419593811\n",
            "batting: 0.6160588264465332\n",
            "balls: 0.5692734122276306\n",
            "batted: 0.5530908107757568\n",
            "toss: 0.5506128668785095\n",
            "wicket: 0.5495278835296631\n",
            "pitch: 0.5489361882209778\n",
            "bowled: 0.5452010631561279\n",
            "hitter: 0.5353438854217529\n",
            "batsman: 0.5348091125488281\n",
            "\n",
            "Most similar words to 'charge':\n",
            "charges: 0.8177176117897034\n",
            "charged: 0.8067139983177185\n",
            "charging: 0.6606977581977844\n",
            "guilty: 0.6375356316566467\n",
            "accused: 0.6239764094352722\n",
            "for: 0.6172690987586975\n",
            "responsible: 0.6007314920425415\n",
            "month: 0.5919045805931091\n",
            "while: 0.5750368237495422\n",
            "counts: 0.5714022517204285\n"
          ]
        }
      ],
      "source": [
        "similar_words_bat = model.most_similar(\"bat\")\n",
        "similar_words_charge = model.most_similar(\"charge\")\n",
        "\n",
        "print(\"Most similar words to 'bat':\")\n",
        "for word, similarity in similar_words_bat:\n",
        "    print(f\"{word}: {similarity}\")\n",
        "\n",
        "print(\"\\nMost similar words to 'charge':\")\n",
        "for word, similarity in similar_words_charge:\n",
        "    print(f\"{word}: {similarity}\")"
      ]
    },
    {
      "cell_type": "markdown",
      "metadata": {
        "id": "JXQ5Y8b17m31"
      },
      "source": [
        "Now, consider these sentences:\n",
        "* *The **bat** flew swiftly through the air.*\n",
        "* *He grabbed his **bat** and headed to the baseball field.*\n",
        "\n",
        "Or these sentences:\n",
        "* *I need to **charge** my phone before leaving.*\n",
        "* *He was arrested for **charge** of theft.*\n",
        "\n",
        "As you can see, a static vector cannot capture the meaning of a word in every context, and some words have very different meanings in different sentences. In this part, we will work with a masked language model, which captures contextual embeddings. Let's import necessary modules and load the `BERT` [(Devlin et al.)](https://aclanthology.org/N19-1423.pdf) model."
      ]
    },
    {
      "cell_type": "code",
      "execution_count": 1,
      "metadata": {
        "id": "43wobVKF7n-1",
        "colab": {
          "base_uri": "https://localhost:8080/",
          "height": 301,
          "referenced_widgets": [
            "ec89674931b94c30b7247b677426cefc",
            "5ab6a131ffa9495d9c02f841d4c3aaba",
            "306170e65d204f549176d8da13514499",
            "b6fc359cfb944a0f8c13543991f6976b",
            "3dbbfa91c04d4fa8bf411a60c80676d9",
            "e0ce50a3a82b4eee883345e3a9b669d8",
            "3d3ad84f681a44959678dcb911961280",
            "f854e4015e0f422ba9215b0234bcd06d",
            "9e8b740025ac43f490232a305e5d7cae",
            "cba8b5db15f94fedab795af783a9f153",
            "3cd3cbf1ea0e435c8b4acce39b484da3",
            "e222c25931e84853bc3c7d554372435d",
            "a6e3e88b5c1145c5b1aa0a8c5e60dd78",
            "1010b98e4a094dde9ec6981ae76f759d",
            "80e0c33b90d447398467173fda4b9318",
            "3f60bf1ae4f3423b952f8904022ee1f9",
            "85180315e8af42d0b5371b5f59b312f2",
            "56aaa73151db4afea0bd274a6b6e5c04",
            "2c41afab53c049a3a11f94a397e7b68b",
            "619be82306e948a0b93d759da08c6ef9",
            "271c47778d124e548601a3d95515f333",
            "c3b8d7f5fad44a2eb5e529541614853c",
            "91b6b47a65e243239335c0af01739a1b",
            "8da9c957a9bf4629bf58a8ba808ed2b5",
            "948f3280e7564f6f8374036a5b622836",
            "6ab3fac13db641a9b3c997203589bb4e",
            "3fb91a59d3a14c989c98add858bf246b",
            "a76afb7b41d54125974abd99f9ad4ab7",
            "bc5eaaf9ef0d476db983ca2cfc34dc7e",
            "3b900fd3cc0c4838af32c3e764a51d8b",
            "89455948e3424ee4b6a1d8e32ab87a22",
            "c918c3cf8d4e49f69bb9913135972911",
            "1b38c0c5457746edb9bad651f720d323",
            "0363de64f17b4221ae1a0f5b9c962fb9",
            "a7d724d2f95b4aaaa213e15017e1e9a8",
            "bd8c7934710c40859e18e098eac29072",
            "d4055db29e7e4a5eaf39e5b21142cecf",
            "6aa207fbbc4d4d4ba44450bf67a765c6",
            "11ca41c3a6ee44868063e770834943b3",
            "a698b4fade514bc48cabe1a863838ff9",
            "87c97bf1b83d49a9a0f6b86907e2bbdf",
            "819710f79b2f4387bdc6c191caa7b288",
            "3f64868da483484b9079ea78fb5faa53",
            "af49bfa469f546979184b85c6d56648c",
            "b99c25bdfbea47a1b850acec2220ea15",
            "c6cadc66d9c04891bdf9a7703d616b72",
            "3aac67fb8bba4480a41cc2f96cdd0c47",
            "37f91c601d9c43cc9d884f185f2682b3",
            "f9f94baff406457db6829eafb5ca2d95",
            "26d8a57c85cb4470a5f8803b7f0c9ccd",
            "7e5bb79371cd487c8d367dccda8267a8",
            "23f135e13a5449dc8b90fdd3f01feec9",
            "7257b6600ee9432f9a8ccb36b57ca7c9",
            "f71c180157244bfbb53a9665cf3b6254",
            "59bba43efd18487ab8b6f09ea3f1b9dc"
          ]
        },
        "outputId": "9f854b86-3738-4856-b627-6903ba44c0f1"
      },
      "outputs": [
        {
          "output_type": "stream",
          "name": "stderr",
          "text": [
            "/usr/local/lib/python3.10/dist-packages/huggingface_hub/utils/_token.py:88: UserWarning: \n",
            "The secret `HF_TOKEN` does not exist in your Colab secrets.\n",
            "To authenticate with the Hugging Face Hub, create a token in your settings tab (https://huggingface.co/settings/tokens), set it as secret in your Google Colab and restart your session.\n",
            "You will be able to reuse this secret in all of your notebooks.\n",
            "Please note that authentication is recommended but still optional to access public models or datasets.\n",
            "  warnings.warn(\n"
          ]
        },
        {
          "output_type": "display_data",
          "data": {
            "text/plain": [
              "tokenizer_config.json:   0%|          | 0.00/48.0 [00:00<?, ?B/s]"
            ],
            "application/vnd.jupyter.widget-view+json": {
              "version_major": 2,
              "version_minor": 0,
              "model_id": "ec89674931b94c30b7247b677426cefc"
            }
          },
          "metadata": {}
        },
        {
          "output_type": "display_data",
          "data": {
            "text/plain": [
              "vocab.txt:   0%|          | 0.00/232k [00:00<?, ?B/s]"
            ],
            "application/vnd.jupyter.widget-view+json": {
              "version_major": 2,
              "version_minor": 0,
              "model_id": "e222c25931e84853bc3c7d554372435d"
            }
          },
          "metadata": {}
        },
        {
          "output_type": "display_data",
          "data": {
            "text/plain": [
              "tokenizer.json:   0%|          | 0.00/466k [00:00<?, ?B/s]"
            ],
            "application/vnd.jupyter.widget-view+json": {
              "version_major": 2,
              "version_minor": 0,
              "model_id": "91b6b47a65e243239335c0af01739a1b"
            }
          },
          "metadata": {}
        },
        {
          "output_type": "display_data",
          "data": {
            "text/plain": [
              "config.json:   0%|          | 0.00/570 [00:00<?, ?B/s]"
            ],
            "application/vnd.jupyter.widget-view+json": {
              "version_major": 2,
              "version_minor": 0,
              "model_id": "0363de64f17b4221ae1a0f5b9c962fb9"
            }
          },
          "metadata": {}
        },
        {
          "output_type": "display_data",
          "data": {
            "text/plain": [
              "model.safetensors:   0%|          | 0.00/440M [00:00<?, ?B/s]"
            ],
            "application/vnd.jupyter.widget-view+json": {
              "version_major": 2,
              "version_minor": 0,
              "model_id": "b99c25bdfbea47a1b850acec2220ea15"
            }
          },
          "metadata": {}
        }
      ],
      "source": [
        "import torch\n",
        "from transformers import BertTokenizer, BertModel\n",
        "\n",
        "tokenizer = BertTokenizer.from_pretrained('bert-base-uncased')\n",
        "model = BertModel.from_pretrained(\"bert-base-uncased\", output_hidden_states=True)"
      ]
    },
    {
      "cell_type": "markdown",
      "metadata": {
        "id": "-BDfI_D27tQl"
      },
      "source": [
        "The cell below demonstrates how to input data into the `BERT` model and how to capture word embeddings from each layer."
      ]
    },
    {
      "cell_type": "code",
      "execution_count": 2,
      "metadata": {
        "id": "-_ziH3XV7uM2",
        "colab": {
          "base_uri": "https://localhost:8080/"
        },
        "outputId": "a598f94b-a9c7-4faa-dd1e-bde4b18898bb"
      },
      "outputs": [
        {
          "output_type": "stream",
          "name": "stdout",
          "text": [
            "Num. of BERT layers: 13\n",
            "Dimensionality of each layer output (batch_size * num_tokens * embedding_dim):  torch.Size([1, 6, 768])\n"
          ]
        }
      ],
      "source": [
        "test_input = \"This is a test\"\n",
        "test_encodings = tokenizer(test_input, return_tensors='pt')\n",
        "output = model(**test_encodings)\n",
        "print(\"Num. of BERT layers:\", len(output[-1]))\n",
        "print(\"Dimensionality of each layer output (batch_size * num_tokens * embedding_dim): \", output[-1][0].size())"
      ]
    },
    {
      "cell_type": "markdown",
      "metadata": {
        "id": "sW3W66Hi7z_F"
      },
      "source": [
        "In this part, you should analyze the embeddings of the word **bat** in the output of each layer of the `BERT` model for the provided sentences. First, identify the location of the **bat** embedding within the output of each layer for both sentences. Next, calculate the `cosine similarity` between the **bat** embeddings for each layer. Finally, examine the similarity levels of the **bat** embeddings between the two sentences across the various layers of the `BERT` model."
      ]
    },
    {
      "cell_type": "code",
      "source": [
        "from scipy.spatial.distance import cosine\n",
        "\n",
        "sentence1 = \"The bat flew swiftly through the air.\"\n",
        "sentence2 = \"He grabbed his bat and headed to the baseball field.\"\n",
        "\n",
        "tokens1 = tokenizer(sentence1, return_tensors='pt')\n",
        "tokens2 = tokenizer(sentence2, return_tensors='pt')\n",
        "\n",
        "output1 = model(**tokens1)\n",
        "output2 = model(**tokens2)\n",
        "\n",
        "hidden_states1 = output1.hidden_states\n",
        "hidden_states2 = output2.hidden_states\n",
        "\n",
        "bat_index1 = tokens1['input_ids'][0].tolist().index(tokenizer.convert_tokens_to_ids('bat'))\n",
        "bat_index2 = tokens2['input_ids'][0].tolist().index(tokenizer.convert_tokens_to_ids('bat'))\n",
        "\n",
        "bat_embeddings1 = [layer[0, bat_index1, :].detach().numpy() for layer in hidden_states1]\n",
        "bat_embeddings2 = [layer[0, bat_index2, :].detach().numpy() for layer in hidden_states2]\n",
        "\n",
        "similarities = []\n",
        "for emb1, emb2 in zip(bat_embeddings1, bat_embeddings2):\n",
        "    similarity = 1 - cosine(emb1, emb2)\n",
        "    similarities.append(similarity)\n",
        "\n",
        "print(\"Cosine Similarity between 'bat' embeddings across layers:\")\n",
        "for layer, similarity in enumerate(similarities):\n",
        "    print(f\"Layer {layer + 1}: {similarity}\")"
      ],
      "metadata": {
        "colab": {
          "base_uri": "https://localhost:8080/"
        },
        "id": "EW3sqSBdkdvG",
        "outputId": "8705be96-1321-4096-a4e6-e666f728df45"
      },
      "execution_count": 10,
      "outputs": [
        {
          "output_type": "stream",
          "name": "stdout",
          "text": [
            "Cosine Similarity between 'bat' embeddings across layers:\n",
            "Layer 1: 0.9575223922729492\n",
            "Layer 2: 0.8337298631668091\n",
            "Layer 3: 0.7908403277397156\n",
            "Layer 4: 0.7525651454925537\n",
            "Layer 5: 0.6812033653259277\n",
            "Layer 6: 0.6683198809623718\n",
            "Layer 7: 0.6693581342697144\n",
            "Layer 8: 0.6561663150787354\n",
            "Layer 9: 0.6398158073425293\n",
            "Layer 10: 0.6194900870323181\n",
            "Layer 11: 0.6181025505065918\n",
            "Layer 12: 0.6321281790733337\n",
            "Layer 13: 0.5685119032859802\n"
          ]
        }
      ]
    },
    {
      "cell_type": "markdown",
      "metadata": {
        "id": "YgP6DU-y8Ap9"
      },
      "source": [
        "\n",
        "Do the same for **charge** provided sentences."
      ]
    },
    {
      "cell_type": "code",
      "source": [
        "sentence1 = \"I need to charge my phone before leaving.\"\n",
        "sentence2 = \"He was arrested for charge of theft.\"\n",
        "\n",
        "tokens1 = tokenizer(sentence1, return_tensors='pt')\n",
        "tokens2 = tokenizer(sentence2, return_tensors='pt')\n",
        "\n",
        "output1 = model(**tokens1)\n",
        "output2 = model(**tokens2)\n",
        "\n",
        "hidden_states1 = output1.hidden_states\n",
        "hidden_states2 = output2.hidden_states\n",
        "\n",
        "bat_index1 = tokens1['input_ids'][0].tolist().index(tokenizer.convert_tokens_to_ids('charge'))\n",
        "bat_index2 = tokens2['input_ids'][0].tolist().index(tokenizer.convert_tokens_to_ids('charge'))\n",
        "\n",
        "bat_embeddings1 = [layer[0, bat_index1, :].detach().numpy() for layer in hidden_states1]\n",
        "bat_embeddings2 = [layer[0, bat_index2, :].detach().numpy() for layer in hidden_states2]\n",
        "\n",
        "similarities = []\n",
        "for emb1, emb2 in zip(bat_embeddings1, bat_embeddings2):\n",
        "    similarity = 1 - cosine(emb1, emb2)\n",
        "    similarities.append(similarity)\n",
        "\n",
        "print(\"Cosine Similarity between 'charge' embeddings across layers:\")\n",
        "for layer, similarity in enumerate(similarities):\n",
        "    print(f\"Layer {layer + 1}: {similarity}\")"
      ],
      "metadata": {
        "colab": {
          "base_uri": "https://localhost:8080/"
        },
        "id": "zv89gHl9OzgQ",
        "outputId": "844fee29-37bb-40a8-cf88-fc22648d2fad"
      },
      "execution_count": 9,
      "outputs": [
        {
          "output_type": "stream",
          "name": "stdout",
          "text": [
            "Cosine Similarity between 'charge' embeddings across layers:\n",
            "Layer 1: 0.9736948013305664\n",
            "Layer 2: 0.7493430972099304\n",
            "Layer 3: 0.6692901849746704\n",
            "Layer 4: 0.5773099660873413\n",
            "Layer 5: 0.48422256112098694\n",
            "Layer 6: 0.4574112296104431\n",
            "Layer 7: 0.39174166321754456\n",
            "Layer 8: 0.3996471166610718\n",
            "Layer 9: 0.3381803333759308\n",
            "Layer 10: 0.33818525075912476\n",
            "Layer 11: 0.3665906488895416\n",
            "Layer 12: 0.4260396659374237\n",
            "Layer 13: 0.3703170418739319\n"
          ]
        }
      ]
    },
    {
      "cell_type": "markdown",
      "metadata": {
        "id": "-f_4s-_c8DI1"
      },
      "source": [
        "Write a few sentences about your results and how `BERT` captures the contextual meaning of words.\n",
        "\n"
      ]
    },
    {
      "cell_type": "markdown",
      "metadata": {
        "id": "fzYP8ShGO7Fv"
      },
      "source": [
        "***Initially, in the lower layers (Layer 1), the similarity is very high at 0.9575, indicating that the word \"bat\" is represented similarly in both sentences at a more basic level of language understanding. However, as we progress through the layers, the similarity gradually decreases, suggesting that the contextual nuances of the word \"bat\" are being captured more distinctly. This decrease in similarity signifies that BERT is effectively capturing the contextual meaning of the word \"bat\" as it encounters various linguistic contexts within the sentences (same reasonings applies for the word charge).Overall, the decreasing trend in cosine similarity across layers demonstrates BERT's ability to capture the rich contextual semantics of words, highlighting its effectiveness in understanding and representing language in a nuanced manner.***"
      ]
    },
    {
      "cell_type": "markdown",
      "metadata": {
        "id": "2bI3GUhR8Ydu"
      },
      "source": [
        "### Question 1.4 (10 points)\n",
        "In this part, we will use `BERT` for masked word completion task. Run the following cell to download the pretrained BERT base model (cased)."
      ]
    },
    {
      "cell_type": "code",
      "execution_count": 12,
      "metadata": {
        "id": "_G7eW-n_8khd",
        "colab": {
          "base_uri": "https://localhost:8080/"
        },
        "outputId": "4b5c01cc-ccf8-448d-a079-a294a8d1e520"
      },
      "outputs": [
        {
          "output_type": "stream",
          "name": "stderr",
          "text": [
            "Some weights of the model checkpoint at bert-base-uncased were not used when initializing BertForMaskedLM: ['bert.pooler.dense.bias', 'bert.pooler.dense.weight', 'cls.seq_relationship.bias', 'cls.seq_relationship.weight']\n",
            "- This IS expected if you are initializing BertForMaskedLM from the checkpoint of a model trained on another task or with another architecture (e.g. initializing a BertForSequenceClassification model from a BertForPreTraining model).\n",
            "- This IS NOT expected if you are initializing BertForMaskedLM from the checkpoint of a model that you expect to be exactly identical (initializing a BertForSequenceClassification model from a BertForSequenceClassification model).\n"
          ]
        }
      ],
      "source": [
        "from transformers import AutoTokenizer, AutoModelForMaskedLM\n",
        "\n",
        "tokenizer = AutoTokenizer.from_pretrained(\"bert-base-uncased\")\n",
        "model = AutoModelForMaskedLM.from_pretrained(\"bert-base-uncased\")"
      ]
    },
    {
      "cell_type": "markdown",
      "metadata": {
        "id": "sJUwtMHE8nOh"
      },
      "source": [
        "Let's challenge `BERT`'s knowledge about named entities. Consider the following sentences\n",
        "- **William Shakespeare**, widely regarded as the greatest writer in the English language, was born in Stratford-upon-Avon, England, in 1564.\n",
        "- The Amazon Rainforest, spanning across nine countries in **South America**,\n",
        "is the largest tropical rainforest on Earth, covering an area of over 6.7\n",
        "million square kilometers (2.7 million square miles) and harboring\n",
        "unparalleled biodiversity.\n",
        "- The Statue of Liberty, a gift from **France** to the United States, was dedicated\n",
        "on October 28, 1886. Standing on Liberty Island in New York Harbor, it\n",
        "symbolizes freedom and democracy and has become a universal symbol of hope and\n",
        "opportunity.\n",
        "\n",
        "Replace the bold words with the mask token (if they are more than one token, put as many as needed). Write down the top 5 choices of BERT for the mask tokens. In this part, you should use `token_logits`.\n",
        "\n",
        "*Hints*\n",
        "\n",
        "- Use `torch.where` to find the index of a masked token within the input tensor (note that `tokenizer.mask_token_id` gives us the index of the mask token in the vocabulary).\n",
        "- Use `torch.topk` to get the k largest elements of a given tensor along a given dimension.\n",
        "- Use `tokenizer.decode([token_id])` to convert a single integer `token_id` to a token string."
      ]
    },
    {
      "cell_type": "code",
      "source": [
        "import torch\n",
        "\n",
        "sentences = [\n",
        "    \"William Shakespeare, widely regarded as the greatest writer in the English language, was born in Stratford-upon-Avon, England, in 1564.\",\n",
        "    \"The Amazon Rainforest, spanning across nine countries in South America, is the largest tropical rainforest on Earth, covering an area of over 6.7 million square kilometers (2.7 million square miles) and harboring unparalleled biodiversity.\",\n",
        "    \"The Statue of Liberty, a gift from France to the United States, was dedicated on October 28, 1886. Standing on Liberty Island in New York Harbor, it symbolizes freedom and democracy and has become a universal symbol of hope and opportunity.\"\n",
        "]\n",
        "\n",
        "def mask_named_entities(sentence):\n",
        "    masked_sentence = sentence\n",
        "    for entity in [\"William\", \"Shakespeare\", \"South\", \"America\", \"France\"]:\n",
        "        masked_entity = tokenizer.mask_token\n",
        "        masked_sentence = masked_sentence.replace(entity, masked_entity)\n",
        "    return masked_sentence\n",
        "\n",
        "masked_sentences = [mask_named_entities(sentence) for sentence in sentences]\n",
        "\n",
        "inputs = tokenizer(masked_sentences, return_tensors=\"pt\", padding=True, truncation=True)\n",
        "with torch.no_grad():\n",
        "    outputs = model(**inputs)\n",
        "\n",
        "token_logits = outputs.logits\n",
        "\n",
        "mask_token_id = tokenizer.mask_token_id\n",
        "for i, sentence in enumerate(masked_sentences):\n",
        "    masked_indices = torch.where(inputs.input_ids[i] == mask_token_id)[0]  # Corrected line\n",
        "    for masked_index in masked_indices:\n",
        "        top_k_values, top_k_indices = torch.topk(token_logits[i, masked_index], k=5, dim=-1)\n",
        "        top_k_tokens = tokenizer.convert_ids_to_tokens(top_k_indices.tolist())\n",
        "        print(f\"Top 5 choices for masked token {masked_index} in sentence {i+1}:\")\n",
        "        for token, value in zip(top_k_tokens, top_k_values):\n",
        "            print(f\"{tokenizer.mask_token} -> {token}\")\n",
        "        print()\n"
      ],
      "metadata": {
        "id": "KUTeN1d_C5pE",
        "colab": {
          "base_uri": "https://localhost:8080/"
        },
        "outputId": "2ef81593-f529-494c-8074-26887b99a129"
      },
      "execution_count": 14,
      "outputs": [
        {
          "output_type": "stream",
          "name": "stdout",
          "text": [
            "Top 5 choices for masked token 1 in sentence 1:\n",
            "[MASK] -> thomas\n",
            "[MASK] -> william\n",
            "[MASK] -> edmund\n",
            "[MASK] -> samuel\n",
            "[MASK] -> henry\n",
            "\n",
            "Top 5 choices for masked token 2 in sentence 1:\n",
            "[MASK] -> shakespeare\n",
            "[MASK] -> scott\n",
            "[MASK] -> johnson\n",
            "[MASK] -> shelley\n",
            "[MASK] -> moore\n",
            "\n",
            "Top 5 choices for masked token 10 in sentence 2:\n",
            "[MASK] -> the\n",
            "[MASK] -> africa\n",
            "[MASK] -> asia\n",
            "[MASK] -> global\n",
            "[MASK] -> modern\n",
            "\n",
            "Top 5 choices for masked token 11 in sentence 2:\n",
            "[MASK] -> africa\n",
            "[MASK] -> world\n",
            "[MASK] -> asia\n",
            "[MASK] -> brazil\n",
            "[MASK] -> amazon\n",
            "\n",
            "Top 5 choices for masked token 9 in sentence 3:\n",
            "[MASK] -> england\n",
            "[MASK] -> france\n",
            "[MASK] -> britain\n",
            "[MASK] -> germany\n",
            "[MASK] -> ireland\n",
            "\n"
          ]
        }
      ]
    },
    {
      "cell_type": "markdown",
      "metadata": {
        "id": "dQ1x5vcH8pu1"
      },
      "source": [
        "Write a few sentences about your results and how masked language modeling works."
      ]
    },
    {
      "cell_type": "markdown",
      "metadata": {
        "id": "niH2-d-4OuX5"
      },
      "source": [
        "***The results show that BERT can understand the context and guess almost perfectly. E.g. in the first sentence, the model correctly suggests names of famous writers such as Thomas, William, Edmund, Samuel, and Henry for the masked tokens, indicative of its understanding of the context of English literature. In the second and third sentences, the model seems to be aware of geography and geopolitical context. Masked language modeling works by masking certain tokens in a sentence and prompting the model to predict what those tokens should be based on the surrounding context. This task helps the model learn representations of language that capture contextual information, allowing it to understand and generate coherent text. BERT, specifically, utilizes a bidirectional transformer architecture to learn deep contextual representations of words, enabling it to accurately predict the masked tokens based on the context provided***"
      ]
    },
    {
      "cell_type": "markdown",
      "metadata": {
        "id": "ez253CdmAMd7"
      },
      "source": [
        "# Part 2: Transfer Learning with BERT (60 points)"
      ]
    },
    {
      "cell_type": "markdown",
      "metadata": {
        "id": "N25dvF4jvYoy"
      },
      "source": [
        "## Adding a hardware accelerator\n",
        "\n",
        "Please go to the menu and add a GPU as follows:\n",
        "\n",
        "`Edit > Notebook Settings > Hardware accelerator > (GPU)`\n",
        "\n",
        "Run the following cell to confirm that the GPU is detected."
      ]
    },
    {
      "cell_type": "code",
      "execution_count": null,
      "metadata": {
        "id": "edOh9ooiIW1B",
        "colab": {
          "base_uri": "https://localhost:8080/",
          "height": 211
        },
        "outputId": "070edf5c-d75a-4ce0-c3ab-348c869cfcb8"
      },
      "outputs": [
        {
          "output_type": "error",
          "ename": "AssertionError",
          "evalue": "",
          "traceback": [
            "\u001b[0;31m---------------------------------------------------------------------------\u001b[0m",
            "\u001b[0;31mAssertionError\u001b[0m                            Traceback (most recent call last)",
            "\u001b[0;32m<ipython-input-2-3930e8a30fa2>\u001b[0m in \u001b[0;36m<cell line: 5>\u001b[0;34m()\u001b[0m\n\u001b[1;32m      3\u001b[0m \u001b[0;31m# Confirm that the GPU is detected\u001b[0m\u001b[0;34m\u001b[0m\u001b[0;34m\u001b[0m\u001b[0m\n\u001b[1;32m      4\u001b[0m \u001b[0;34m\u001b[0m\u001b[0m\n\u001b[0;32m----> 5\u001b[0;31m \u001b[0;32massert\u001b[0m \u001b[0mtorch\u001b[0m\u001b[0;34m.\u001b[0m\u001b[0mcuda\u001b[0m\u001b[0;34m.\u001b[0m\u001b[0mis_available\u001b[0m\u001b[0;34m(\u001b[0m\u001b[0;34m)\u001b[0m\u001b[0;34m\u001b[0m\u001b[0;34m\u001b[0m\u001b[0m\n\u001b[0m\u001b[1;32m      6\u001b[0m \u001b[0;34m\u001b[0m\u001b[0m\n\u001b[1;32m      7\u001b[0m \u001b[0;31m# Get the GPU device name.\u001b[0m\u001b[0;34m\u001b[0m\u001b[0;34m\u001b[0m\u001b[0m\n",
            "\u001b[0;31mAssertionError\u001b[0m: "
          ]
        }
      ],
      "source": [
        "import torch\n",
        "\n",
        "# Confirm that the GPU is detected\n",
        "\n",
        "assert torch.cuda.is_available()\n",
        "\n",
        "# Get the GPU device name.\n",
        "device_name = torch.cuda.get_device_name()\n",
        "n_gpu = torch.cuda.device_count()\n",
        "print(f\"Found device: {device_name}, n_gpu: {n_gpu}\")"
      ]
    },
    {
      "cell_type": "markdown",
      "metadata": {
        "id": "xrvH7xx9LnMC"
      },
      "source": [
        "## Installing Hugging Face's Transformers library\n",
        "We will use Hugging Face's Transformers (https://github.com/huggingface/transformers), an open-source library that provides general-purpose architectures for natural language understanding and generation with a collection of various pretrained models made by the NLP community. This library will allow us to easily use pretrained models like `BERT` and perform experiments on top of them. We can use these models to solve downstream target tasks, such as text classification, question answering, and sequence labeling.\n",
        "\n",
        "Run the following cell to install Hugging Face's Transformers library, download data and supporting code for the homework, and install some additional packages. Note that you will be asked to link with your Google Drive account to download some of these files."
      ]
    },
    {
      "cell_type": "code",
      "execution_count": null,
      "metadata": {
        "id": "gtqS2e5fxpqa",
        "colab": {
          "base_uri": "https://localhost:8080/"
        },
        "outputId": "4c0acf39-a960-46c0-c5fb-c7cde7c3e4b2"
      },
      "outputs": [
        {
          "output_type": "stream",
          "name": "stdout",
          "text": [
            "Collecting git+https://github.com/huggingface/accelerate\n",
            "  Cloning https://github.com/huggingface/accelerate to /tmp/pip-req-build-m4ydkbk1\n",
            "  Running command git clone --filter=blob:none --quiet https://github.com/huggingface/accelerate /tmp/pip-req-build-m4ydkbk1\n",
            "  Resolved https://github.com/huggingface/accelerate to commit d9a1b8f97504efad8055693fd2311aa5199791ca\n",
            "  Installing build dependencies ... \u001b[?25l\u001b[?25hdone\n",
            "  Getting requirements to build wheel ... \u001b[?25l\u001b[?25hdone\n",
            "  Preparing metadata (pyproject.toml) ... \u001b[?25l\u001b[?25hdone\n",
            "Requirement already satisfied: numpy>=1.17 in /usr/local/lib/python3.10/dist-packages (from accelerate==0.29.0.dev0) (1.25.2)\n",
            "Requirement already satisfied: packaging>=20.0 in /usr/local/lib/python3.10/dist-packages (from accelerate==0.29.0.dev0) (24.0)\n",
            "Requirement already satisfied: psutil in /usr/local/lib/python3.10/dist-packages (from accelerate==0.29.0.dev0) (5.9.5)\n",
            "Requirement already satisfied: pyyaml in /usr/local/lib/python3.10/dist-packages (from accelerate==0.29.0.dev0) (6.0.1)\n",
            "Requirement already satisfied: torch>=1.10.0 in /usr/local/lib/python3.10/dist-packages (from accelerate==0.29.0.dev0) (2.2.1+cu121)\n",
            "Requirement already satisfied: huggingface-hub in /usr/local/lib/python3.10/dist-packages (from accelerate==0.29.0.dev0) (0.20.3)\n",
            "Requirement already satisfied: safetensors>=0.3.1 in /usr/local/lib/python3.10/dist-packages (from accelerate==0.29.0.dev0) (0.4.2)\n",
            "Requirement already satisfied: filelock in /usr/local/lib/python3.10/dist-packages (from torch>=1.10.0->accelerate==0.29.0.dev0) (3.13.3)\n",
            "Requirement already satisfied: typing-extensions>=4.8.0 in /usr/local/lib/python3.10/dist-packages (from torch>=1.10.0->accelerate==0.29.0.dev0) (4.10.0)\n",
            "Requirement already satisfied: sympy in /usr/local/lib/python3.10/dist-packages (from torch>=1.10.0->accelerate==0.29.0.dev0) (1.12)\n",
            "Requirement already satisfied: networkx in /usr/local/lib/python3.10/dist-packages (from torch>=1.10.0->accelerate==0.29.0.dev0) (3.2.1)\n",
            "Requirement already satisfied: jinja2 in /usr/local/lib/python3.10/dist-packages (from torch>=1.10.0->accelerate==0.29.0.dev0) (3.1.3)\n",
            "Requirement already satisfied: fsspec in /usr/local/lib/python3.10/dist-packages (from torch>=1.10.0->accelerate==0.29.0.dev0) (2023.6.0)\n",
            "Requirement already satisfied: nvidia-cuda-nvrtc-cu12==12.1.105 in /usr/local/lib/python3.10/dist-packages (from torch>=1.10.0->accelerate==0.29.0.dev0) (12.1.105)\n",
            "Requirement already satisfied: nvidia-cuda-runtime-cu12==12.1.105 in /usr/local/lib/python3.10/dist-packages (from torch>=1.10.0->accelerate==0.29.0.dev0) (12.1.105)\n",
            "Requirement already satisfied: nvidia-cuda-cupti-cu12==12.1.105 in /usr/local/lib/python3.10/dist-packages (from torch>=1.10.0->accelerate==0.29.0.dev0) (12.1.105)\n",
            "Requirement already satisfied: nvidia-cudnn-cu12==8.9.2.26 in /usr/local/lib/python3.10/dist-packages (from torch>=1.10.0->accelerate==0.29.0.dev0) (8.9.2.26)\n",
            "Requirement already satisfied: nvidia-cublas-cu12==12.1.3.1 in /usr/local/lib/python3.10/dist-packages (from torch>=1.10.0->accelerate==0.29.0.dev0) (12.1.3.1)\n",
            "Requirement already satisfied: nvidia-cufft-cu12==11.0.2.54 in /usr/local/lib/python3.10/dist-packages (from torch>=1.10.0->accelerate==0.29.0.dev0) (11.0.2.54)\n",
            "Requirement already satisfied: nvidia-curand-cu12==10.3.2.106 in /usr/local/lib/python3.10/dist-packages (from torch>=1.10.0->accelerate==0.29.0.dev0) (10.3.2.106)\n",
            "Requirement already satisfied: nvidia-cusolver-cu12==11.4.5.107 in /usr/local/lib/python3.10/dist-packages (from torch>=1.10.0->accelerate==0.29.0.dev0) (11.4.5.107)\n",
            "Requirement already satisfied: nvidia-cusparse-cu12==12.1.0.106 in /usr/local/lib/python3.10/dist-packages (from torch>=1.10.0->accelerate==0.29.0.dev0) (12.1.0.106)\n",
            "Requirement already satisfied: nvidia-nccl-cu12==2.19.3 in /usr/local/lib/python3.10/dist-packages (from torch>=1.10.0->accelerate==0.29.0.dev0) (2.19.3)\n",
            "Requirement already satisfied: nvidia-nvtx-cu12==12.1.105 in /usr/local/lib/python3.10/dist-packages (from torch>=1.10.0->accelerate==0.29.0.dev0) (12.1.105)\n",
            "Requirement already satisfied: triton==2.2.0 in /usr/local/lib/python3.10/dist-packages (from torch>=1.10.0->accelerate==0.29.0.dev0) (2.2.0)\n",
            "Requirement already satisfied: nvidia-nvjitlink-cu12 in /usr/local/lib/python3.10/dist-packages (from nvidia-cusolver-cu12==11.4.5.107->torch>=1.10.0->accelerate==0.29.0.dev0) (12.4.99)\n",
            "Requirement already satisfied: requests in /usr/local/lib/python3.10/dist-packages (from huggingface-hub->accelerate==0.29.0.dev0) (2.31.0)\n",
            "Requirement already satisfied: tqdm>=4.42.1 in /usr/local/lib/python3.10/dist-packages (from huggingface-hub->accelerate==0.29.0.dev0) (4.66.2)\n",
            "Requirement already satisfied: MarkupSafe>=2.0 in /usr/local/lib/python3.10/dist-packages (from jinja2->torch>=1.10.0->accelerate==0.29.0.dev0) (2.1.5)\n",
            "Requirement already satisfied: charset-normalizer<4,>=2 in /usr/local/lib/python3.10/dist-packages (from requests->huggingface-hub->accelerate==0.29.0.dev0) (3.3.2)\n",
            "Requirement already satisfied: idna<4,>=2.5 in /usr/local/lib/python3.10/dist-packages (from requests->huggingface-hub->accelerate==0.29.0.dev0) (2.10)\n",
            "Requirement already satisfied: urllib3<3,>=1.21.1 in /usr/local/lib/python3.10/dist-packages (from requests->huggingface-hub->accelerate==0.29.0.dev0) (2.0.7)\n",
            "Requirement already satisfied: certifi>=2017.4.17 in /usr/local/lib/python3.10/dist-packages (from requests->huggingface-hub->accelerate==0.29.0.dev0) (2024.2.2)\n",
            "Requirement already satisfied: mpmath>=0.19 in /usr/local/lib/python3.10/dist-packages (from sympy->torch>=1.10.0->accelerate==0.29.0.dev0) (1.3.0)\n",
            "Requirement already satisfied: transformers in /usr/local/lib/python3.10/dist-packages (4.38.2)\n",
            "Requirement already satisfied: filelock in /usr/local/lib/python3.10/dist-packages (from transformers) (3.13.3)\n",
            "Requirement already satisfied: huggingface-hub<1.0,>=0.19.3 in /usr/local/lib/python3.10/dist-packages (from transformers) (0.20.3)\n",
            "Requirement already satisfied: numpy>=1.17 in /usr/local/lib/python3.10/dist-packages (from transformers) (1.25.2)\n",
            "Requirement already satisfied: packaging>=20.0 in /usr/local/lib/python3.10/dist-packages (from transformers) (24.0)\n",
            "Requirement already satisfied: pyyaml>=5.1 in /usr/local/lib/python3.10/dist-packages (from transformers) (6.0.1)\n",
            "Requirement already satisfied: regex!=2019.12.17 in /usr/local/lib/python3.10/dist-packages (from transformers) (2023.12.25)\n",
            "Requirement already satisfied: requests in /usr/local/lib/python3.10/dist-packages (from transformers) (2.31.0)\n",
            "Requirement already satisfied: tokenizers<0.19,>=0.14 in /usr/local/lib/python3.10/dist-packages (from transformers) (0.15.2)\n",
            "Requirement already satisfied: safetensors>=0.4.1 in /usr/local/lib/python3.10/dist-packages (from transformers) (0.4.2)\n",
            "Requirement already satisfied: tqdm>=4.27 in /usr/local/lib/python3.10/dist-packages (from transformers) (4.66.2)\n",
            "Requirement already satisfied: fsspec>=2023.5.0 in /usr/local/lib/python3.10/dist-packages (from huggingface-hub<1.0,>=0.19.3->transformers) (2023.6.0)\n",
            "Requirement already satisfied: typing-extensions>=3.7.4.3 in /usr/local/lib/python3.10/dist-packages (from huggingface-hub<1.0,>=0.19.3->transformers) (4.10.0)\n",
            "Requirement already satisfied: charset-normalizer<4,>=2 in /usr/local/lib/python3.10/dist-packages (from requests->transformers) (3.3.2)\n",
            "Requirement already satisfied: idna<4,>=2.5 in /usr/local/lib/python3.10/dist-packages (from requests->transformers) (2.10)\n",
            "Requirement already satisfied: urllib3<3,>=1.21.1 in /usr/local/lib/python3.10/dist-packages (from requests->transformers) (2.0.7)\n",
            "Requirement already satisfied: certifi>=2017.4.17 in /usr/local/lib/python3.10/dist-packages (from requests->transformers) (2024.2.2)\n"
          ]
        },
        {
          "output_type": "stream",
          "name": "stderr",
          "text": [
            "WARNING:root:pydrive is deprecated and no longer maintained. We recommend that you migrate your projects to pydrive2, the maintained fork of pydrive\n"
          ]
        },
        {
          "output_type": "stream",
          "name": "stdout",
          "text": [
            "success!\n",
            "Data and supporting code downloaded!\n",
            "model directory created\n",
            "Requirement already satisfied: seqeval in /usr/local/lib/python3.10/dist-packages (from -r requirements.txt (line 1)) (1.2.2)\n",
            "Requirement already satisfied: conllu in /usr/local/lib/python3.10/dist-packages (from -r requirements.txt (line 2)) (4.5.3)\n",
            "Requirement already satisfied: googletrans in /usr/local/lib/python3.10/dist-packages (from -r requirements.txt (line 3)) (3.0.0)\n",
            "Requirement already satisfied: langdetect in /usr/local/lib/python3.10/dist-packages (from -r requirements.txt (line 4)) (1.0.9)\n",
            "Requirement already satisfied: numpy>=1.14.0 in /usr/local/lib/python3.10/dist-packages (from seqeval->-r requirements.txt (line 1)) (1.25.2)\n",
            "Requirement already satisfied: scikit-learn>=0.21.3 in /usr/local/lib/python3.10/dist-packages (from seqeval->-r requirements.txt (line 1)) (1.2.2)\n",
            "Requirement already satisfied: httpx==0.13.3 in /usr/local/lib/python3.10/dist-packages (from googletrans->-r requirements.txt (line 3)) (0.13.3)\n",
            "Requirement already satisfied: certifi in /usr/local/lib/python3.10/dist-packages (from httpx==0.13.3->googletrans->-r requirements.txt (line 3)) (2024.2.2)\n",
            "Requirement already satisfied: hstspreload in /usr/local/lib/python3.10/dist-packages (from httpx==0.13.3->googletrans->-r requirements.txt (line 3)) (2024.4.1)\n",
            "Requirement already satisfied: sniffio in /usr/local/lib/python3.10/dist-packages (from httpx==0.13.3->googletrans->-r requirements.txt (line 3)) (1.3.1)\n",
            "Requirement already satisfied: chardet==3.* in /usr/local/lib/python3.10/dist-packages (from httpx==0.13.3->googletrans->-r requirements.txt (line 3)) (3.0.4)\n",
            "Requirement already satisfied: idna==2.* in /usr/local/lib/python3.10/dist-packages (from httpx==0.13.3->googletrans->-r requirements.txt (line 3)) (2.10)\n",
            "Requirement already satisfied: rfc3986<2,>=1.3 in /usr/local/lib/python3.10/dist-packages (from httpx==0.13.3->googletrans->-r requirements.txt (line 3)) (1.5.0)\n",
            "Requirement already satisfied: httpcore==0.9.* in /usr/local/lib/python3.10/dist-packages (from httpx==0.13.3->googletrans->-r requirements.txt (line 3)) (0.9.1)\n",
            "Requirement already satisfied: h11<0.10,>=0.8 in /usr/local/lib/python3.10/dist-packages (from httpcore==0.9.*->httpx==0.13.3->googletrans->-r requirements.txt (line 3)) (0.9.0)\n",
            "Requirement already satisfied: h2==3.* in /usr/local/lib/python3.10/dist-packages (from httpcore==0.9.*->httpx==0.13.3->googletrans->-r requirements.txt (line 3)) (3.2.0)\n",
            "Requirement already satisfied: hyperframe<6,>=5.2.0 in /usr/local/lib/python3.10/dist-packages (from h2==3.*->httpcore==0.9.*->httpx==0.13.3->googletrans->-r requirements.txt (line 3)) (5.2.0)\n",
            "Requirement already satisfied: hpack<4,>=3.0 in /usr/local/lib/python3.10/dist-packages (from h2==3.*->httpcore==0.9.*->httpx==0.13.3->googletrans->-r requirements.txt (line 3)) (3.0.0)\n",
            "Requirement already satisfied: six in /usr/local/lib/python3.10/dist-packages (from langdetect->-r requirements.txt (line 4)) (1.16.0)\n",
            "Requirement already satisfied: scipy>=1.3.2 in /usr/local/lib/python3.10/dist-packages (from scikit-learn>=0.21.3->seqeval->-r requirements.txt (line 1)) (1.11.4)\n",
            "Requirement already satisfied: joblib>=1.1.1 in /usr/local/lib/python3.10/dist-packages (from scikit-learn>=0.21.3->seqeval->-r requirements.txt (line 1)) (1.3.2)\n",
            "Requirement already satisfied: threadpoolctl>=2.0.0 in /usr/local/lib/python3.10/dist-packages (from scikit-learn>=0.21.3->seqeval->-r requirements.txt (line 1)) (3.4.0)\n",
            "everything set up!\n"
          ]
        }
      ],
      "source": [
        "!pip install git+https://github.com/huggingface/accelerate\n",
        "!pip install transformers\n",
        "!pip install -U -q PyDrive\n",
        "\n",
        "from pydrive.auth import GoogleAuth\n",
        "from pydrive.drive import GoogleDrive\n",
        "from google.colab import auth\n",
        "from oauth2client.client import GoogleCredentials\n",
        "# Authenticate and create the PyDrive client.\n",
        "auth.authenticate_user()\n",
        "gauth = GoogleAuth()\n",
        "gauth.credentials = GoogleCredentials.get_application_default()\n",
        "drive = GoogleDrive(gauth)\n",
        "print('success!')\n",
        "\n",
        "import os\n",
        "import zipfile\n",
        "\n",
        "data_file = drive.CreateFile({'id': '1zeo8FcaNUnhN660mGMNEAPvxOE4DPOnE'})\n",
        "data_file.GetContentFile('hw1.zip')\n",
        "\n",
        "# Extract data from the zipfile and put it into the current directory\n",
        "with zipfile.ZipFile('hw1.zip', 'r') as zip_file:\n",
        "    zip_file.extractall('./')\n",
        "os.remove('hw1.zip')\n",
        "# We will use hw1 as our working directory\n",
        "os.chdir('hw1')\n",
        "print(\"Data and supporting code downloaded!\")\n",
        "\n",
        "pretrained_models_dir = './pretrained_models_dir'\n",
        "if not os.path.isdir(pretrained_models_dir):\n",
        "  os.mkdir(pretrained_models_dir)   # directory to save pretrained models\n",
        "print('model directory created')\n",
        "\n",
        "!pip install -r requirements.txt\n",
        "print('everything set up!')"
      ]
    },
    {
      "cell_type": "markdown",
      "metadata": {
        "id": "1dyG8xSuMxFm"
      },
      "source": [
        "With the advent of methods such as `BERT` [(Devlin et al., 2019)](https://arxiv.org/pdf/1810.04805.pdf), the dominant paradigm for developing NLP models has shifted to transfer learning: first, pretrain a large language model on large amounts of unlabeled data, and then fine-tune the resulting model on the downstream target task. In this section, we will use `BERT` to solve downstream target tasks across several classes of problems, including classification, question answering, and sequence labeling."
      ]
    },
    {
      "cell_type": "markdown",
      "metadata": {
        "id": "4_ZM8bTI-HNP"
      },
      "source": [
        "### Question 2.1 (25 points)\n",
        "Before diving into the practical applications, let's first ensure your foundational knowledge is solid. Please answer the following questions briefly, aiming for two or three sentences each. This exercise is designed to prime your understanding of the transformative technologies we're exploring, and making sure you're well-prepared for the hands-on challenges ahead.\n",
        "\n",
        "\n",
        "**A) Describe the role of the attention mechanism within BERT. How does the multi-head attention mechanism enable BERT to process different parts of the input data simultaneously, and why is this beneficial for natural language understanding tasks?**\n",
        "\n",
        "**B) Describe how BERT's bidirectionality is different from traditional sequential language models.**\n",
        "\n",
        "**C) What is segment embedding's functionality in BERT?**\n",
        "\n",
        "**D) Briefly describe one variant of BERT (e.g., RoBERTa, ALBERT, DistilBERT) and highlight a key difference in its approach or architecture compared to the original BERT model.**\n",
        "\n",
        "**E) Despite its success, BERT has limitations. Can you identify one limitation or challenge associated with using BERT for NLP tasks?**\n"
      ]
    },
    {
      "cell_type": "markdown",
      "metadata": {
        "id": "OVJL9B73ASsm"
      },
      "source": [
        "***A) In BERT, the attention mechanism helps focus on relevant parts of the sentence by assigning weights to different words. BERT's multi-head attention, enables it to attend to various aspects of the relationships between words concurrently and capture diverse linguistic patterns. This allows BERT to understand richer contexts and word dependencies, leading to more effective performance across various natural language understanding tasks.***\n",
        "\n",
        "***B) Unlike traditional models that process words sequentially, BERT considers both left and right contexts simultaneously during training. This bidirectionality allows BERT to understand how words depend on each other, regardless of their order, leading to a more accurate grasp of meaning. Traditional language models struggle with ambiguous words or phrases, while BERT's bi-directional nature considers the entire sentence context, facilitating disambiguation and accurate capture of word meanings.***\n",
        "\n",
        "***C) Segment embeddings differentiate between parts of the input text, like sentences in a pair. By adding a unique embedding to each word depending on its \"segment\", it helps BERT understand the relationships and boundaries between different parts of the input text, especially in tasks involving multiple sentences or passages.***\n",
        "\n",
        "***D) One variant of BERT is DistilBERT which is a smaller and faster version of BERT that aims to compress the original BERT model while preserving its performance. It achieves this by utilizing a smaller architecture with fewer layers and parameters compared to the original BERT model. Unlike BERT's reliance on masked language modeling, DistilBERT utilizes a technique called knowledge distillation where a student model (DistilBERT) learns from a larger teacher model (BERT) by mimicking its predictions.***\n",
        "\n",
        "***E) BERT requires significant computational resources and training time, making it less accessible to smaller organizations or those with limited budgets. BERT's large architecture requires significant computational power and memory, making it challenging to deploy in resource-constrained environments or on devices with limited processing capabilities.***"
      ]
    },
    {
      "cell_type": "markdown",
      "metadata": {
        "id": "TpqiH9gP2x4N"
      },
      "source": [
        "After answering the above questions, let's run the cell below to import necessary packages and set some things up for fine-tuning `BERT`."
      ]
    },
    {
      "cell_type": "code",
      "execution_count": null,
      "metadata": {
        "id": "7kDEdMvq9tCr",
        "colab": {
          "base_uri": "https://localhost:8080/"
        },
        "outputId": "27d79344-1e55-43f9-db58-a620d5b9df94"
      },
      "outputs": [
        {
          "output_type": "stream",
          "name": "stdout",
          "text": [
            "setup complete\n"
          ]
        }
      ],
      "source": [
        "# coding=utf-8\n",
        "\n",
        "import dataclasses\n",
        "import logging\n",
        "import math\n",
        "import os\n",
        "import timeit\n",
        "from dataclasses import dataclass, field\n",
        "from typing import Callable, Dict, List, Tuple, Optional\n",
        "\n",
        "import numpy as np\n",
        "from seqeval.metrics import accuracy_score, f1_score, precision_score, recall_score\n",
        "import torch\n",
        "from torch.utils.data import DataLoader, SequentialSampler\n",
        "from tqdm import tqdm\n",
        "\n",
        "from transformers import (\n",
        "    AutoConfig,\n",
        "    AutoModelWithLMHead,\n",
        "    AutoModelForSequenceClassification,\n",
        "    AutoModelForQuestionAnswering,\n",
        "    AutoModelForTokenClassification,\n",
        "    AutoTokenizer,\n",
        "    PreTrainedTokenizer,\n",
        "    EvalPrediction\n",
        ")\n",
        "from transformers import (\n",
        "    GlueDataset,\n",
        "    SquadDataset,\n",
        "    LineByLineTextDataset,\n",
        "    TextDataset,\n",
        "    DataCollatorForLanguageModeling,\n",
        ")\n",
        "from transformers import GlueDataTrainingArguments, SquadDataTrainingArguments\n",
        "from transformers import (\n",
        "    Trainer,\n",
        "    TrainingArguments,\n",
        "    glue_compute_metrics,\n",
        "    glue_output_modes,\n",
        "    glue_tasks_num_labels,\n",
        "    set_seed,\n",
        ")\n",
        "from transformers.data.processors.squad import SquadResult\n",
        "from transformers.data.metrics.squad_metrics import (\n",
        "    compute_predictions_logits,\n",
        "    squad_evaluate,\n",
        ")\n",
        "from tasks import NER\n",
        "from utils_ner import Split, TokenClassificationDataset, TokenClassificationTask\n",
        "\n",
        "from transformers import glue_processors\n",
        "from transformers.data.processors.utils import InputExample\n",
        "from langdetect import detect\n",
        "\n",
        "logger = logging.getLogger(__name__)\n",
        "\n",
        "\n",
        "@dataclass\n",
        "class ModelArguments:\n",
        "    \"\"\"\n",
        "    Arguments pertaining to which model/config/tokenizer we are going to fine-tune from.\n",
        "    \"\"\"\n",
        "    model_type: str = field(\n",
        "        default=\"bert\",\n",
        "        metadata={\"help\": \"Model type, e.g., bert.\"}\n",
        "    )\n",
        "    model_name_or_path: str = field(\n",
        "        default=\"bert\",\n",
        "        metadata={\"help\": \"Path to pretrained model or model identifier from huggingface.co/models.\"}\n",
        "    )\n",
        "    do_lower_case: Optional[bool] = field(\n",
        "        default=False,\n",
        "        metadata={\"help\": \"Whether you want to do lower case on input before tokenization.\"}\n",
        "    )\n",
        "    model_cache_dir: Optional[str] = field(\n",
        "        default=None,\n",
        "        metadata={\"help\": \"Where you want to store the pretrained models downloaded from s3.\"}\n",
        "    )\n",
        "    data_cache_dir: Optional[str] = field(\n",
        "        default=None,\n",
        "        metadata={\"help\": \"Where you want to store the cached features for the task.\"}\n",
        "    )\n",
        "\n",
        "\n",
        "@dataclass\n",
        "class NerDataTrainingArguments:\n",
        "    \"\"\"\n",
        "    Arguments pertaining to what data we are going to input our model for training and eval.\n",
        "    \"\"\"\n",
        "\n",
        "    data_dir: str = field(\n",
        "        metadata={\"help\": \"The input data dir. Should contain data files for the task.\"}\n",
        "    )\n",
        "    labels: Optional[str] = field(\n",
        "        default=None,\n",
        "        metadata={\"help\": \"Path to a file containing all labels for the task.\"},\n",
        "    )\n",
        "    max_seq_length: int = field(\n",
        "        default=128,\n",
        "        metadata={\n",
        "            \"help\": \"The maximum total input sequence length after tokenization. Sequences longer \"\n",
        "            \"than this will be truncated, sequences shorter will be padded.\"\n",
        "        },\n",
        "    )\n",
        "    overwrite_cache: bool = field(\n",
        "        default=False, metadata={\"help\": \"Overwrite the cached training and evaluation sets.\"}\n",
        "    )\n",
        "\n",
        "\n",
        "@dataclass\n",
        "class LMDataTrainingArguments:\n",
        "    \"\"\"\n",
        "    Arguments pertaining to what data we are going to input our model for training and eval.\n",
        "    \"\"\"\n",
        "\n",
        "    train_data_file: Optional[str] = field(\n",
        "        default=None, metadata={\"help\": \"The input training data file (a text file).\"}\n",
        "    )\n",
        "    eval_data_file: Optional[str] = field(\n",
        "        default=None,\n",
        "        metadata={\"help\": \"An optional input evaluation data file to evaluate the perplexity on (a text file).\"},\n",
        "    )\n",
        "    line_by_line: bool = field(\n",
        "        default=False,\n",
        "        metadata={\"help\": \"Whether distinct lines of text in the dataset are to be handled as distinct sequences.\"},\n",
        "    )\n",
        "\n",
        "    mlm: bool = field(\n",
        "        default=False, metadata={\"help\": \"Train with masked-language modeling loss instead of language modeling.\"}\n",
        "    )\n",
        "    mlm_probability: float = field(\n",
        "        default=0.15, metadata={\"help\": \"Ratio of tokens to mask for masked language modeling loss\"}\n",
        "    )\n",
        "    block_size: int = field(\n",
        "        default=-1,\n",
        "        metadata={\n",
        "            \"help\": \"Optional input sequence length after tokenization.\"\n",
        "            \"The training dataset will be truncated in block of this size for training.\"\n",
        "            \"Default to the model max input length for single sentence inputs (take into account special tokens).\"\n",
        "        },\n",
        "    )\n",
        "    overwrite_cache: bool = field(\n",
        "        default=False, metadata={\"help\": \"Overwrite the cached training and evaluation sets\"}\n",
        "    )\n",
        "\n",
        "\n",
        "def get_dataset(\n",
        "    args: LMDataTrainingArguments,\n",
        "    tokenizer: PreTrainedTokenizer,\n",
        "    evaluate: bool = False,\n",
        "    cache_dir: Optional[str] = None,\n",
        "):\n",
        "    file_path = args.eval_data_file if evaluate else args.train_data_file\n",
        "    if args.line_by_line:\n",
        "        return LineByLineTextDataset(tokenizer=tokenizer, file_path=file_path, block_size=args.block_size)\n",
        "    else:\n",
        "        return TextDataset(\n",
        "            tokenizer=tokenizer,\n",
        "            file_path=file_path,\n",
        "            block_size=args.block_size,\n",
        "            overwrite_cache=args.overwrite_cache,\n",
        "            cache_dir=cache_dir,\n",
        "        )\n",
        "\n",
        "\n",
        "DATA_TRAINING_ARGUMENTS = {\n",
        "    \"text_classification\": GlueDataTrainingArguments,\n",
        "    \"question_answering\": SquadDataTrainingArguments,\n",
        "    \"sequence_labeling\": NerDataTrainingArguments,\n",
        "}\n",
        "\n",
        "\n",
        "AUTO_MODEL = {\n",
        "    \"text_classification\": AutoModelForSequenceClassification,\n",
        "    \"question_answering\": AutoModelForQuestionAnswering,\n",
        "    \"sequence_labeling\": AutoModelForTokenClassification,\n",
        "}\n",
        "\n",
        "\n",
        "DATASET = {\n",
        "    \"text_classification\": GlueDataset,\n",
        "    \"question_answering\": SquadDataset,\n",
        "    \"sequence_labeling\": TokenClassificationDataset,\n",
        "}\n",
        "\n",
        "\n",
        "# some functions for fine-tuning BERT on a downstream target task\n",
        "def do_target_task_finetuning(model_name_or_path, task_type, output_dir, **kwargs):\n",
        "    r\"\"\" Fine-tuning BERT on a downstream target task.\n",
        "    Params:\n",
        "        **model_name_or_path**: either:\n",
        "            - a string with the `shortcut name` of a pre-trained model configuration to load from cache\n",
        "                or download and cache if not already stored in cache (e.g. 'bert-base-uncased').\n",
        "            - a path to a `directory` containing a configuration file saved\n",
        "                using the `save_pretrained(save_directory)` method.\n",
        "            - a path or url to a saved configuration `file`.\n",
        "        **task_type**: string:\n",
        "            The class of the task to train, selected in\n",
        "            [\"text_classification\", \"question_answering\", \"sequence_labeling\"].\n",
        "        **output_dir**: string:\n",
        "            The output directory where the model predictions and checkpoints will be written.\n",
        "        **kwargs**: (`optional`) dict:\n",
        "            Dictionary of key/value pairs with which to update the configuration object after loading.\n",
        "            - The values in kwargs of any keys which are configuration attributes will be used\n",
        "            to override the loaded values.\n",
        "    \"\"\"\n",
        "    # See all possible arguments in src/transformers/training_args.py\n",
        "\n",
        "    assert task_type in DATA_TRAINING_ARGUMENTS\n",
        "    model_args = ModelArguments(model_name_or_path=model_name_or_path)\n",
        "    data_args_params = {}\n",
        "    for param in [\"task_name\", \"data_dir\"]:\n",
        "        if param in kwargs:\n",
        "            data_args_params.update({param: kwargs[param]})\n",
        "\n",
        "    data_args = DATA_TRAINING_ARGUMENTS[task_type](**data_args_params)\n",
        "    training_args = TrainingArguments(output_dir=output_dir)\n",
        "\n",
        "    # override the loaded configs\n",
        "    configs = (model_args, data_args, training_args)\n",
        "    for config in configs:\n",
        "        for key, value in kwargs.items():\n",
        "            if hasattr(config, key):\n",
        "                setattr(config, key, value)\n",
        "\n",
        "    if (\n",
        "        os.path.exists(training_args.output_dir)\n",
        "        and os.listdir(training_args.output_dir)\n",
        "        and training_args.do_train\n",
        "        and not training_args.overwrite_output_dir\n",
        "    ):\n",
        "        raise ValueError(\n",
        "            f\"Output directory ({training_args.output_dir}) already exists and is not empty. \"\n",
        "            f\"Use --overwrite_output_dir to overcome.\"\n",
        "        )\n",
        "\n",
        "    for p in [model_args.model_cache_dir, model_args.data_cache_dir, training_args.output_dir]:\n",
        "        if not os.path.exists(p):\n",
        "            os.makedirs(p)\n",
        "\n",
        "    # Setup logging\n",
        "    logging.basicConfig(\n",
        "        format=\"%(asctime)s - %(levelname)s - %(name)s -   %(message)s\",\n",
        "        datefmt=\"%m/%d/%Y %H:%M:%S\",\n",
        "        level=logging.INFO,\n",
        "    )\n",
        "\n",
        "    logger.info(\"Process device: %s, n_gpu: %s\", training_args.device, training_args.n_gpu)\n",
        "    logger.info(\"Training/evaluation parameters %s\", training_args)\n",
        "\n",
        "\n",
        "    # Set seed\n",
        "    set_seed(training_args.seed)\n",
        "\n",
        "    if task_type == \"text_classification\":\n",
        "        try:\n",
        "            data_args.task_name = data_args.task_name.lower()\n",
        "            num_labels = glue_tasks_num_labels[data_args.task_name]\n",
        "            output_mode = glue_output_modes[data_args.task_name]\n",
        "        except KeyError:\n",
        "            raise ValueError(\"Task not found: %s\" % (data_args.task_name))\n",
        "    elif task_type == \"sequence_labeling\":\n",
        "        token_classification_task = NER() # You might want to this to Chunk() or POS()\n",
        "        # if you are working with a Chunk or POS task, respectively\n",
        "        labels = token_classification_task.get_labels(data_args.labels)\n",
        "        label_map: Dict[int, str] = {i: label for i, label in enumerate(labels)}\n",
        "        num_labels = len(labels)\n",
        "\n",
        "    # Load pretrained model and tokenizer\n",
        "\n",
        "    AutoModel = AUTO_MODEL[task_type]\n",
        "    auto_config_params = {\n",
        "        'pretrained_model_name_or_path': model_args.model_name_or_path,\n",
        "        'cache_dir': model_args.model_cache_dir,\n",
        "    }\n",
        "\n",
        "    if task_type == \"text_classification\":\n",
        "        auto_config_params.update({\n",
        "            \"num_labels\": num_labels,\n",
        "            \"finetuning_task\": data_args.task_name,\n",
        "        })\n",
        "    elif task_type == \"sequence_labeling\":\n",
        "        auto_config_params.update({\n",
        "            \"num_labels\": num_labels,\n",
        "            \"id2label\": label_map,\n",
        "            \"label2id\": {label: i for i, label in enumerate(labels)},\n",
        "        })\n",
        "\n",
        "    config = AutoConfig.from_pretrained(**auto_config_params)\n",
        "\n",
        "    auto_tokenizer_params = {\n",
        "        \"pretrained_model_name_or_path\": model_args.model_name_or_path,\n",
        "        \"cache_dir\": model_args.model_cache_dir,\n",
        "        \"do_lower_case\": model_args.do_lower_case,\n",
        "    }\n",
        "    tokenizer = AutoTokenizer.from_pretrained(**auto_tokenizer_params)\n",
        "\n",
        "    auto_model_params = {\n",
        "        \"pretrained_model_name_or_path\": model_args.model_name_or_path,\n",
        "        \"from_tf\": False,\n",
        "        \"config\": config,\n",
        "        \"cache_dir\": model_args.model_cache_dir,\n",
        "    }\n",
        "\n",
        "    if \"model_load_mode\" in kwargs and kwargs[\"model_load_mode\"] == \"base_model_only\":\n",
        "        WEIGHTS_NAME = \"pytorch_model.bin\"\n",
        "        archive_file = os.path.join(model_args.model_name_or_path, WEIGHTS_NAME)\n",
        "        # Use torch.load with map_location=torch.device() to map the pretrained model to our device.\n",
        "        model_state_dict = torch.load(archive_file, map_location=torch.device(training_args.device))\n",
        "\n",
        "        state_dict_with_prefix = {}\n",
        "        for key, value in model_state_dict.items():\n",
        "            if key.startswith(model_args.model_type):\n",
        "                state_dict_with_prefix[key] = value\n",
        "\n",
        "        auto_model_params.update({\"state_dict\": state_dict_with_prefix})\n",
        "\n",
        "    model = AutoModel.from_pretrained(**auto_model_params)\n",
        "\n",
        "    # Get datasets\n",
        "    Dataset = DATASET[task_type]\n",
        "    dataset_params = {\n",
        "        \"tokenizer\": tokenizer,\n",
        "    }\n",
        "    if task_type == \"sequence_labeling\":\n",
        "        dataset_params.update({\n",
        "            \"token_classification_task\": token_classification_task,\n",
        "            \"data_dir\": data_args.data_dir,\n",
        "            \"labels\": labels,\n",
        "            \"model_type\": model_args.model_type,\n",
        "            \"max_seq_length\": data_args.max_seq_length\n",
        "        })\n",
        "\n",
        "    else:\n",
        "        dataset_params.update({\n",
        "            \"args\": data_args,\n",
        "            \"cache_dir\": model_args.data_cache_dir,\n",
        "        })\n",
        "\n",
        "    train_dataset = (Dataset(**dataset_params) if training_args.do_train else None)\n",
        "\n",
        "    dataset_params.update({\"mode\": Split.dev if task_type == \"sequence_labeling\" else \"dev\"})\n",
        "    eval_dataset = (Dataset(**dataset_params) if training_args.do_eval else None)\n",
        "\n",
        "    # Initialize our Trainer\n",
        "    trainer_params = {\n",
        "        \"model\": model,\n",
        "        \"args\": training_args,\n",
        "        \"train_dataset\": train_dataset,\n",
        "        \"eval_dataset\": eval_dataset,\n",
        "    }\n",
        "    trainer = Trainer(**trainer_params)\n",
        "\n",
        "    # Training\n",
        "    if training_args.do_train:\n",
        "        trainer.train(\n",
        "            model_path=model_args.model_name_or_path if os.path.isdir(model_args.model_name_or_path) else None\n",
        "        )\n",
        "        trainer.save_model()\n",
        "        # For convenience, we also re-save the tokenizer to the same directory\n",
        "        tokenizer.save_pretrained(training_args.output_dir)\n",
        "\n",
        "    # Evaluation\n",
        "    eval_results = {}\n",
        "    if training_args.do_eval:\n",
        "        if task_type == \"text_classification\":\n",
        "            def build_compute_metrics_fn(task_name: str) -> Callable[[EvalPrediction], Dict]:\n",
        "                def compute_metrics_fn(p: EvalPrediction):\n",
        "                    if output_mode == \"classification\":\n",
        "                        preds = np.argmax(p.predictions, axis=1)\n",
        "                    elif output_mode == \"regression\":\n",
        "                        preds = np.squeeze(p.predictions)\n",
        "                    return glue_compute_metrics(task_name, preds, p.label_ids)\n",
        "                return compute_metrics_fn\n",
        "\n",
        "            logger.info(\"*** Evaluate ***\")\n",
        "            # Loop to handle MNLI double evaluation (matched, mis-matched)\n",
        "            eval_datasets = [eval_dataset]\n",
        "            if data_args.task_name == \"mnli\":\n",
        "                mnli_mm_data_args = dataclasses.replace(data_args, task_name=\"mnli-mm\")\n",
        "                eval_datasets.append(\n",
        "                    Dataset(mnli_mm_data_args, tokenizer=tokenizer, mode=\"dev\", cache_dir=model_args.data_cache_dir)\n",
        "                )\n",
        "\n",
        "            for eval_dataset in eval_datasets:\n",
        "                trainer.compute_metrics = build_compute_metrics_fn(eval_dataset.args.task_name)\n",
        "                eval_result = trainer.evaluate(eval_dataset=eval_dataset)\n",
        "\n",
        "                output_eval_file = os.path.join(training_args.output_dir, f\"eval_results.txt\")\n",
        "                with open(output_eval_file, \"w\") as writer:\n",
        "                    logger.info(\"***** Eval results *****\")\n",
        "                    for key, value in eval_result.items():\n",
        "                        logger.info(\"  %s = %s\", key, value)\n",
        "                        writer.write(\"%s = %s\\n\" % (key, value))\n",
        "\n",
        "                eval_results.update(eval_result)\n",
        "\n",
        "        elif task_type == \"question_answering\":\n",
        "            # We don't use trainer.evaluate here since it currently does not support question answering tasks\n",
        "            # (https://github.com/huggingface/transformers/issues/7032)\n",
        "            model = AutoModel.from_pretrained(model_args.model_cache_dir)\n",
        "            tokenizer = AutoTokenizer.from_pretrained(model_args.model_cache_dir, do_lower_case=model_args.do_lower_case)\n",
        "            model.to(training_args.device)\n",
        "\n",
        "\n",
        "            dataset = eval_dataset.dataset\n",
        "            examples = eval_dataset.examples\n",
        "            features = eval_dataset.features\n",
        "            eval_batch_size = training_args.per_gpu_eval_batch_size * max(1, training_args.n_gpu)\n",
        "\n",
        "            eval_sampler = SequentialSampler(dataset)\n",
        "            eval_dataloader = DataLoader(dataset, sampler=eval_sampler, batch_size=eval_batch_size)\n",
        "\n",
        "            logger.info(\"*** Evaluate ***\")\n",
        "            description = \"Evaluation\"\n",
        "            logger.info(\"***** Running %s *****\", description)\n",
        "            logger.info(\"  Num examples = %d\", len(dataset))\n",
        "            logger.info(\"  Batch size = %d\", eval_batch_size)\n",
        "\n",
        "            all_results = []\n",
        "            start_time = timeit.default_timer()\n",
        "\n",
        "            for batch in tqdm(eval_dataloader, desc=description):\n",
        "                model.eval()\n",
        "                batch = tuple(t.to(training_args.device) for t in batch)\n",
        "\n",
        "                with torch.no_grad():\n",
        "                    inputs = {\n",
        "                        \"input_ids\": batch[0],\n",
        "                        \"attention_mask\": batch[1],\n",
        "                        \"token_type_ids\": batch[2],\n",
        "                    }\n",
        "                    feature_indices = batch[3]\n",
        "                    outputs = model(**inputs)\n",
        "\n",
        "                for i, feature_index in enumerate(feature_indices):\n",
        "                    eval_feature = features[feature_index.item()]\n",
        "                    unique_id = int(eval_feature.unique_id)\n",
        "                    output = [output[i].detach().cpu().tolist() for output in outputs]\n",
        "                    start_logits, end_logits = output\n",
        "                    result = SquadResult(unique_id, start_logits, end_logits)\n",
        "                    all_results.append(result)\n",
        "\n",
        "            evalTime = timeit.default_timer() - start_time\n",
        "            logger.info(\"  Evaluation done in total %f secs (%f sec per example)\", evalTime, evalTime / len(dataset))\n",
        "\n",
        "            # Compute predictions\n",
        "            output_prediction_file = os.path.join(training_args.output_dir, \"predictions.json\")\n",
        "            output_nbest_file = os.path.join(training_args.output_dir, \"nbest_predictions.json\")\n",
        "\n",
        "            output_null_log_odds_file = os.path.join(training_args.output_dir, \"null_odds.json\") \\\n",
        "                if data_args.version_2_with_negative else None\n",
        "\n",
        "            predictions = compute_predictions_logits(\n",
        "                all_examples=examples,\n",
        "                all_features=features,\n",
        "                all_results=all_results,\n",
        "                n_best_size=data_args.n_best_size,\n",
        "                max_answer_length=data_args.max_answer_length,\n",
        "                do_lower_case=model_args.do_lower_case,\n",
        "                output_prediction_file=output_prediction_file,\n",
        "                output_nbest_file=output_nbest_file,\n",
        "                output_null_log_odds_file=output_null_log_odds_file,\n",
        "                verbose_logging=False,\n",
        "                version_2_with_negative=data_args.version_2_with_negative,\n",
        "                null_score_diff_threshold=data_args.null_score_diff_threshold,\n",
        "                tokenizer=tokenizer,\n",
        "            )\n",
        "\n",
        "            # Compute the F1 and exact scores.\n",
        "            eval_result = squad_evaluate(examples, predictions)\n",
        "\n",
        "            output_eval_file = os.path.join(training_args.output_dir, f\"eval_results.txt\")\n",
        "            with open(output_eval_file, \"w\") as writer:\n",
        "                logger.info(\"***** Eval results *****\")\n",
        "                for key, value in eval_result.items():\n",
        "                    logger.info(\"  %s = %s\", key, value)\n",
        "                    writer.write(\"%s = %s\\n\" % (key, value))\n",
        "\n",
        "            eval_results.update(eval_result)\n",
        "\n",
        "\n",
        "        elif task_type == \"sequence_labeling\":\n",
        "            def align_predictions(predictions: np.ndarray, label_ids: np.ndarray) -> Tuple[List[int], List[int]]:\n",
        "                preds = np.argmax(predictions, axis=2)\n",
        "                batch_size, seq_len = preds.shape\n",
        "                label_list = [[] for _ in range(batch_size)]\n",
        "                pred_list = [[] for _ in range(batch_size)]\n",
        "\n",
        "                for i in range(batch_size):\n",
        "                    for j in range(seq_len):\n",
        "                        if label_ids[i, j] != torch.nn.CrossEntropyLoss().ignore_index:\n",
        "                            label_list[i].append(label_map[label_ids[i][j]])\n",
        "                            pred_list[i].append(label_map[preds[i][j]])\n",
        "                return pred_list, label_list\n",
        "\n",
        "            def compute_metrics_fn(p: EvalPrediction) -> Dict:\n",
        "                pred_list, label_list = align_predictions(p.predictions, p.label_ids)\n",
        "                return {\n",
        "                    \"accuracy_score\": accuracy_score(label_list, pred_list),\n",
        "                    \"precision\": precision_score(label_list, pred_list),\n",
        "                    \"recall\": recall_score(label_list, pred_list),\n",
        "                    \"f1\": f1_score(label_list, pred_list),\n",
        "                }\n",
        "\n",
        "            trainer.compute_metrics = compute_metrics_fn\n",
        "            eval_result = trainer.evaluate(eval_dataset=eval_dataset)\n",
        "\n",
        "            output_eval_file = os.path.join(training_args.output_dir, f\"eval_results.txt\")\n",
        "            with open(output_eval_file, \"w\") as writer:\n",
        "                logger.info(\"***** Eval results *****\")\n",
        "                for key, value in eval_result.items():\n",
        "                    logger.info(\"  %s = %s\", key, value)\n",
        "                    writer.write(\"%s = %s\\n\" % (key, value))\n",
        "\n",
        "            eval_results.update(eval_result)\n",
        "\n",
        "        else:\n",
        "            raise ValueError(\"Invalid task type.\")\n",
        "    return eval_results\n",
        "\n",
        "\n",
        "print('setup complete')"
      ]
    },
    {
      "cell_type": "markdown",
      "metadata": {
        "id": "lfWAtDLLx8SK"
      },
      "source": [
        "## Fine-tuning BERT for text classification\n",
        "Now, let's use `BERT` to solve a sentiment classification task. Specifically, we'll be using the Stanford Sentiment Treebank [(Socher et al., 2013)](https://nlp.stanford.edu/~socherr/EMNLP2013_RNTN.pdf), which was constructed from movie reviews data. We provide code to fine-tune BERT in a separate [\"useful code\" Colab notebook](https://colab.research.google.com/drive/1nJWA9rPkPrjjjtwN_vKUSQoomdfWLAFV?usp=sharing), so check that out if you're interested. However, since training on the full `SST` dataset (67K examples) takes a while, we provide you with a fine-tuned model to save time. Run the following cell to download the model.\n",
        "\n"
      ]
    },
    {
      "cell_type": "code",
      "source": [
        "data_file = drive.CreateFile({'id': '1ZJ1_gWahH_OOBIrRm0aN9i8nvLB2olZC'})\n",
        "data_file.GetContentFile('bert-base-cased-finetuned-sst.zip')\n",
        "\n",
        "# Extract the data from the zipfile and put it into pretrained_models_dir\n",
        "with zipfile.ZipFile('bert-base-cased-finetuned-sst.zip', 'r') as zip_file:\n",
        "    zip_file.extractall(pretrained_models_dir)\n",
        "os.remove('bert-base-cased-finetuned-sst.zip')\n",
        "print(\"bert-base-cased-finetuned-sst downloaded!\")"
      ],
      "metadata": {
        "id": "2-48fUgg9pq-",
        "colab": {
          "base_uri": "https://localhost:8080/"
        },
        "outputId": "09ec7f89-ac02-466a-d3a3-ad7dbd54b638"
      },
      "execution_count": null,
      "outputs": [
        {
          "output_type": "stream",
          "name": "stdout",
          "text": [
            "bert-base-cased-finetuned-sst downloaded!\n"
          ]
        }
      ]
    },
    {
      "cell_type": "markdown",
      "metadata": {
        "id": "SMugs2KHRUZN"
      },
      "source": [
        "### Question 2.2 (5 points)\n",
        "Let's use the trained model to predict the sentiment of a given sentence. We will make a few predictions in the code below. Your task is to complete the code to print out the model's predicted probability distribution for each sentence.\n",
        "\n",
        "*Hint:*\n",
        "\n",
        "*   `model(inputs)[0]` gives you the logits of the model for `inputs`."
      ]
    },
    {
      "cell_type": "code",
      "execution_count": null,
      "metadata": {
        "id": "TlaiLg-a5f8Y",
        "colab": {
          "base_uri": "https://localhost:8080/"
        },
        "outputId": "8591e7b6-46c2-4b01-da7f-b196105965b8"
      },
      "outputs": [
        {
          "output_type": "stream",
          "name": "stdout",
          "text": [
            "Sentence 1: the movie has something interesting to say\n",
            "Probability of negative: 0.0011\n",
            "Probability of positive: 0.9989\n",
            "\n",
            "Sentence 2: it was so awful that i walked out after 30 minutes :(\n",
            "Probability of negative: 0.9978\n",
            "Probability of positive: 0.0022\n"
          ]
        }
      ],
      "source": [
        "import torch\n",
        "import torch.nn.functional as F\n",
        "\n",
        "model_name_or_path = \"bert-base-cased-finetuned-sst\"\n",
        "pretrained_weights = os.path.join(pretrained_models_dir, model_name_or_path)\n",
        "task_type = \"text_classification\"\n",
        "model = AUTO_MODEL[task_type].from_pretrained(pretrained_weights)\n",
        "tokenizer = AutoTokenizer.from_pretrained(pretrained_weights)\n",
        "\n",
        "classes = [\"negative\", \"positive\"]\n",
        "\n",
        "sentence_1 = \"the movie has something interesting to say\"\n",
        "sentence_2 = \"it was so awful that i walked out after 30 minutes :(\"\n",
        "\n",
        "inputs_1 = tokenizer.encode(sentence_1, add_special_tokens=True, return_tensors=\"pt\")\n",
        "inputs_2 = tokenizer.encode(sentence_2, add_special_tokens=True, return_tensors=\"pt\")\n",
        "\n",
        "model.eval()\n",
        "\n",
        "with torch.no_grad():\n",
        "    logits_1 = model(inputs_1)[0]\n",
        "    logits_2 = model(inputs_2)[0]\n",
        "\n",
        "probs_1 = F.softmax(logits_1, dim=1).squeeze()\n",
        "probs_2 = F.softmax(logits_2, dim=1).squeeze()\n",
        "\n",
        "print(\"Sentence 1:\", sentence_1)\n",
        "for i, class_name in enumerate(classes):\n",
        "    print(f\"Probability of {class_name}: {probs_1[i].item():.4f}\")\n",
        "\n",
        "print(\"\\nSentence 2:\", sentence_2)\n",
        "for i, class_name in enumerate(classes):\n",
        "    print(f\"Probability of {class_name}: {probs_2[i].item():.4f}\")\n"
      ]
    },
    {
      "cell_type": "markdown",
      "metadata": {
        "id": "SLdj1V1yZnSO"
      },
      "source": [
        "### Question 2.3 (5 points)\n",
        "Come up with a new sentence that the model gets wrong. The sentence must contain some sentiment (i.e., it cannot be neutral), and the model should place a higher probability on the wrong label than the correct one. Show the model's prediction on this new sentence."
      ]
    },
    {
      "cell_type": "code",
      "execution_count": null,
      "metadata": {
        "id": "qmKYU5zratKI",
        "colab": {
          "base_uri": "https://localhost:8080/"
        },
        "outputId": "32811df6-c2a9-4a1a-996f-871b05fb3292"
      },
      "outputs": [
        {
          "output_type": "stream",
          "name": "stdout",
          "text": [
            "your sentence: \"Don't pay attention to people if they say it's no good.\"\n",
            "ground-truth label: positive\n",
            "predicted negative prob: 1.00\n",
            "predicted positive prob: 0.00\n"
          ]
        }
      ],
      "source": [
        "your_sentence = \"Don't pay attention to people if they say it's no good.\"\n",
        "your_sentence_sentiment = 'positive'\n",
        "\n",
        "inputs = tokenizer.encode(your_sentence, add_special_tokens=True, return_tensors=\"pt\")\n",
        "\n",
        "with torch.no_grad():\n",
        "    logits = model(inputs)[0]\n",
        "\n",
        "your_model_prediction = F.softmax(logits, dim=1).squeeze().tolist()\n",
        "\n",
        "print('your sentence: \"%s\"\\nground-truth label: %s\\npredicted negative prob: %0.2f\\npredicted positive prob: %0.2f'\\\n",
        "      % (your_sentence, your_sentence_sentiment, your_model_prediction[0], your_model_prediction[1]))"
      ]
    },
    {
      "cell_type": "markdown",
      "metadata": {
        "id": "nTdT62X1cSfg"
      },
      "source": [
        "### Question 2.4 (5 points)\n",
        "Provide a reasonable explanation as to why the model got your sentence wrong. Also provide a plausible method to improve the underlying sentiment model so that this kind of error stops happening."
      ]
    },
    {
      "cell_type": "markdown",
      "metadata": {
        "id": "sosXqVsIfAOc"
      },
      "source": [
        "***Reason for BERT's mistake:***\n",
        "\n",
        "\n",
        "\n",
        "1.   **Negation handling:** BERT models are trained on massive amounts of text data. While they can grasp context, they might initially focus on individual words. Although the sentence contains negative words like \"don't\" and \"no good,\" the overall sentiment is positive because it advises not to heed negative opinions. However, the model may focus more on the negative words without properly considering their context, leading to the incorrect prediction.\n",
        "\n",
        "\n",
        "2.  **Limited Context Understanding:** BERT struggles with complex sentence structures and sarcasm to some degree. The sentiment expressed in the sentence relies heavily on subtle contextual cues and implied meanings. It might not fully grasp the speaker's intent, which is to encourage ignoring negativity.\n",
        "\n",
        "\n",
        "***Methods to improve sentiment analysis:***\n",
        "\n",
        "\n",
        "1.   **Fine-tuning with negation-aware data:** Fine-tuning the model on a dataset that includes examples with negation and contradictory sentiments can help the model learn to handle negation more effectively. This helps it learn to analyze sentence structure and word relationships better, leading to a more nuanced understanding of the intended meaning.\n",
        "2.   **Sentiment Lexicon Expansion:**  Expand the sentiment lexicon used by the model to include phrases that express negativity indirectly, like \"pay no attention.\" This helps the model recognize these phrases as conveying a negative sentiment about something else (the people saying it's no good).\n",
        "\n",
        "3. **Negation Detection:**  Modify the model to specifically identify and account for negation words like \"don't\" or \"not.\" This would help flip the overall sentiment based on the context\n",
        "\n",
        "\n",
        "\n"
      ]
    },
    {
      "cell_type": "markdown",
      "metadata": {
        "id": "wt4_JfmX7w5d"
      },
      "source": [
        "## Fine-tuning BERT for question answering\n",
        "In this section, we will use `BERT` for a question answering task, i.e., `SQuAD` [(Rajpurkar et al., 2016)](https://nlp.stanford.edu/pubs/rajpurkar2016squad.pdf) whose dataset was built from Wikipedia. Training on the full `SQuAD` dataset (108K examples) would takes a couple of hours, so we will provide you with a trained model to save your time. Run the following cell to download the model."
      ]
    },
    {
      "cell_type": "code",
      "execution_count": null,
      "metadata": {
        "id": "dMhmA6i61Cqt",
        "colab": {
          "base_uri": "https://localhost:8080/"
        },
        "outputId": "77be83ea-9cc1-416a-9421-d19e9c83c321"
      },
      "outputs": [
        {
          "output_type": "stream",
          "name": "stdout",
          "text": [
            "bert-base-cased-finetuned-squad downloaded!\n"
          ]
        }
      ],
      "source": [
        "data_file = drive.CreateFile({'id': '19cnGSN88KlRJRcIqwxw3C4ylJftdkZ2W'})\n",
        "data_file.GetContentFile('bert-base-cased-finetuned-squad.zip')\n",
        "\n",
        "# Extract the data from the zipfile and put it into pretrained_models_dir\n",
        "with zipfile.ZipFile('bert-base-cased-finetuned-squad.zip', 'r') as zip_file:\n",
        "    zip_file.extractall(pretrained_models_dir)\n",
        "os.remove('bert-base-cased-finetuned-squad.zip')\n",
        "print(\"bert-base-cased-finetuned-squad downloaded!\")"
      ]
    },
    {
      "cell_type": "markdown",
      "metadata": {
        "id": "5CkbeUxR5fNw"
      },
      "source": [
        "### Question 2.5 (10 points)\n",
        "\n",
        "Okay, same drill as before! Your task is to complete the code to show the model's predicted answer to each question. If you forgot how `BERT` solves extractive question answering tasks, check out Section 4.2 and Figure 1 / Figure 4c) in the [BERT paper](https://arxiv.org/pdf/1810.04805.pdf). Your output should be three strings, each corresponding to the answer of one of the three given questions.\n",
        "\n",
        "*Hints*\n",
        "\n",
        "*   `model(**inputs)]` gives you the start and end logits of the model for  `inputs`.\n",
        "*   Use `tokenizer.convert_tokens_to_string` to convert a sequence of tokens (string) into a single string.\n",
        "*   Use `tokenizer.convert_ids_to_tokens` to convert a sequence of indices into a sequence of tokens."
      ]
    },
    {
      "cell_type": "code",
      "execution_count": null,
      "metadata": {
        "id": "G5COVCSw6f5h",
        "colab": {
          "base_uri": "https://localhost:8080/"
        },
        "outputId": "27319b23-49d9-4ece-b510-02b453f2f450"
      },
      "outputs": [
        {
          "output_type": "stream",
          "name": "stderr",
          "text": [
            "Some weights of the model checkpoint at ./pretrained_models_dir/bert-base-cased-finetuned-squad were not used when initializing BertForQuestionAnswering: ['bert.pooler.dense.bias', 'bert.pooler.dense.weight']\n",
            "- This IS expected if you are initializing BertForQuestionAnswering from the checkpoint of a model trained on another task or with another architecture (e.g. initializing a BertForSequenceClassification model from a BertForPreTraining model).\n",
            "- This IS NOT expected if you are initializing BertForQuestionAnswering from the checkpoint of a model that you expect to be exactly identical (initializing a BertForSequenceClassification model from a BertForSequenceClassification model).\n"
          ]
        },
        {
          "output_type": "stream",
          "name": "stdout",
          "text": [
            "Question: What is the focus of this course?\n",
            "Answer: deep learning methods for natural language processing\n",
            "\n",
            "Question: Who is this course intended for?\n",
            "Answer: graduate students in computer science and linguistics\n",
            "\n",
            "Question: What is the coursework?\n",
            "Answer: reading recent research papers, programming assignments, and a final project\n",
            "\n"
          ]
        }
      ],
      "source": [
        "task_name = \"SQuAD\"\n",
        "model_name_or_path = \"bert-base-cased-finetuned-squad\"\n",
        "pretrained_weights = os.path.join(pretrained_models_dir, model_name_or_path)\n",
        "task_type = \"question_answering\"\n",
        "model = AUTO_MODEL[task_type].from_pretrained(pretrained_weights)\n",
        "tokenizer = AutoTokenizer.from_pretrained(pretrained_weights)\n",
        "\n",
        "context = \"\"\"This course will broadly focus on deep learning methods for\n",
        "natural language processing. Most of the semester will focus on very recent\n",
        "transfer learning methods that have significantly pushed forward the state of\n",
        "the art. It is intended for graduate students in computer science and\n",
        "linguistics who are (1) interested in learning about cutting-edge research\n",
        "progress in NLP and (2) familiar with machine learning fundamentals. We will\n",
        "cover modeling architectures, training objectives, and downstream tasks (e.g.,\n",
        "text classification, question answering, and text generation). Coursework\n",
        "includes reading recent research papers, programming assignments, and a final\n",
        "project. This class will be asynchronous: lectures will be prerecorded and\n",
        "posted on a weekly basis, along with accompanying readings and assignments.\"\"\"\n",
        "\n",
        "questions = [\n",
        "    \"What is the focus of this course?\",\n",
        "    \"Who is this course intended for?\",\n",
        "    \"What is the coursework?\",\n",
        "]\n",
        "\n",
        "for question in questions:\n",
        "    inputs = tokenizer.encode_plus(question, context, add_special_tokens=True, return_tensors=\"pt\")\n",
        "    input_ids = inputs[\"input_ids\"].tolist()[0]\n",
        "\n",
        "    outputs = model(**inputs)\n",
        "    start_logits, end_logits = outputs.start_logits, outputs.end_logits\n",
        "    start_index = torch.argmax(start_logits)\n",
        "    end_index = torch.argmax(end_logits) + 1\n",
        "    answer = tokenizer.convert_tokens_to_string(tokenizer.convert_ids_to_tokens(input_ids[start_index:end_index]))\n",
        "    print(\"Question:\", question)\n",
        "    print(\"Answer:\", answer)\n",
        "    print()"
      ]
    },
    {
      "cell_type": "markdown",
      "metadata": {
        "id": "MjPQa9bGhNKL"
      },
      "source": [
        "### Question 2.6 (5 points)\n",
        "Come up with a new question about this passage that the model gets wrong. The question must be answerable by the passage (i.e., its ground-truth answer should be a span of text within the passage). Show the model's predicted answer on this new sentence."
      ]
    },
    {
      "cell_type": "code",
      "execution_count": null,
      "metadata": {
        "id": "dJJeSHlZhfgH",
        "colab": {
          "base_uri": "https://localhost:8080/"
        },
        "outputId": "853b6ec0-e8b1-4c28-dea8-edc48dd3b6f9"
      },
      "outputs": [
        {
          "output_type": "stream",
          "name": "stdout",
          "text": [
            "your question: \"What are the prerequisites for taking this course?\"\n",
            "ground-truth answer: graduate students in computer science and linguistics\n",
            "predicted answer: lectures will be prerecorded and posted on a weekly basis, along with accompanying readings and assignments\n"
          ]
        }
      ],
      "source": [
        "your_question = \"What are the prerequisites for taking this course?\"\n",
        "your_answer = \"graduate students in computer science and linguistics\"\n",
        "# your_model_prediction = 'blah blah' # obviously, change this to the model's predicted answer span\n",
        "\n",
        "\n",
        "inputs = tokenizer.encode_plus(your_question, context, add_special_tokens=True, return_tensors=\"pt\")\n",
        "outputs = model(**inputs)\n",
        "start_logits, end_logits = outputs.start_logits, outputs.end_logits\n",
        "start_index = torch.argmax(start_logits)\n",
        "end_index = torch.argmax(end_logits) + 1\n",
        "your_model_prediction = tokenizer.convert_tokens_to_string(tokenizer.convert_ids_to_tokens(inputs[\"input_ids\"].tolist()[0][start_index:end_index]))\n",
        "\n",
        "\n",
        "print('your question: \"%s\"\\nground-truth answer: %s\\npredicted answer: %s'\\\n",
        "      % (your_question, your_answer, your_model_prediction))"
      ]
    },
    {
      "cell_type": "markdown",
      "metadata": {
        "id": "ZyS1OJ6sh70y"
      },
      "source": [
        "### Question 2.7 (5 points)\n",
        "Provide a reasonable explanation as to why the model got your question wrong. Also provide a plausible method to improve the underlying QA model so that this kind of error stops happening."
      ]
    },
    {
      "cell_type": "markdown",
      "metadata": {
        "id": "pb24NVS_h70z"
      },
      "source": [
        "***Reason for the mistake:***\n",
        "\n",
        "*   **Focus on surface-level features:** BERT models are excellent at understanding context and relationships between words. However, for question answering, they can get sidetracked by surface-level features that correlate with the answer but aren't necessarily the answer itself. In this case, The model fixated on the keywords \"posted on a weekly basis\" which might be associated with course material and prerequisites in the context of online courses. In other words, the model likely identified keywords like \"posted,\" \"readings,\" and \"assignments,\" which are all related to course logistics, and mistakenly assumed they described prerequisites.\n",
        "\n",
        "*  **Lack of Explicit Mention:** The passage does not explicitly state the prerequisites in a single concise sentence. Instead, it provides information about the target audience's characteristics, which the model might have failed to grasp effectively.\n",
        "\n",
        "***Methods to improve the model:***\n",
        "\n",
        "\n",
        "\n",
        "*   **Fine-tuning on question-answering datasets:** While BERT is a powerful pre-trained model, fine-tuning it on a question-answering dataset specifically focused on educational content could significantly improve performance fro this type of questions.\n",
        "\n",
        "*   **Active Learning:** Continuously update and refine the model based on feedback from incorrect predictions, actively seeking human input to correct and improve its understanding of prerequisite-related questions.\n",
        "\n",
        "\n",
        "\n",
        "\n"
      ]
    },
    {
      "cell_type": "markdown",
      "metadata": {
        "id": "HL8W-Ku8tVLT"
      },
      "source": [
        "## AI Disclosure\n",
        "\n",
        "*   Did you use any AI assistance to complete this homework? If so, please also specify what AI you used.\n",
        "    * Yes. Chat GPT and Gemini\n",
        "\n",
        "\n",
        "---\n",
        "*(only complete the below questions if you answered yes above)*\n",
        "\n",
        "*   If you used a large language model to assist you, please paste *all* of the prompts that you used below. Add a separate bullet for each prompt, and specify which problem is associated with which prompt.\n",
        "    * **1.1.a)** My prompt: *We are using the Gensim library for working with GloVe embeddings.\n",
        "with this line of code I have loaded glove 6B:\n",
        "model = KeyedVectors.load_word2vec_format(glove_input_file, binary=False, no_header=True)\n",
        "now help me write a code to print the 5 most similar words to computer, football, ocean, music, and artificial along with their similarity scores.*\n",
        "    * 1.1.b) My prompt: write the code to apply analogies using Gensim's most_similar() function. give 5 examples. (sth other than king - man + woman = queen)\n",
        "\n",
        "    * 1.2.a) My prompt: beatify this plot.\n",
        "\n",
        "    * 1.2.b) My prompt: check grammar.\n",
        "\n",
        "    * 1.3.a) My prompt: Find the most similar words to bat and charge in GloVe.\n",
        "\n",
        "    * 1.3.b) My prompt: In this part, you should analyze the embeddings of the word bat in the output of each layer of the BERT model for the provided sentences. First, identify the location of the bat embedding within the output of each layer for both sentences. Next, calculate the cosine similarity between the bat embeddings for each layer. Finally, examine the similarity levels of the bat embeddings between the two sentences across the various layers of the BERT model. one-shot technique: The cell below demonstrates how to input data into the BERT model and how to capture word embeddings from each layer.\n",
        "test_input = \"This is a test\"\n",
        "test_encodings = tokenizer(test_input, return_tensors='pt')\n",
        "output = model(**test_encodings)\n",
        "print(\"Num. of BERT layers:\", len(output[-1]))\n",
        "print(\"Dimensionality of each layer output (batch_size * num_tokens * embedding_dim): \", output[-1][0].size())\n",
        "\n",
        "    * 1.4) My prompt 1: Mask the following words of the given sentences. my model is bert.[words and sentences] compelete the following code: from transformers import AutoTokenizer, AutoModelForMaskedLM\n",
        "    tokenizer = AutoTokenizer.from_pretrained(\"bert-base-uncased\")\n",
        "model = AutoModelForMaskedLM.from_pretrained(\"bert-base-uncased\") *My Prompt 2:* In this part, we will use BERT for masked word completion task. Write down the top 5 choices of BERT for the mask tokens. In this part, you should use token_logits.\n",
        "\n",
        "    * 2.1) My Prompts: The questions.\n",
        "\n",
        "    * 2.2) My Prompt: complete the code below. with this description: Let's use the trained model to predict the sentiment of a given sentence. We will make a few predictions in the code below. Your task is to complete the code to print out the model's predicted probability distribution for each sentence.\n",
        "\n",
        "    * 2.3) No prompts.\n",
        "    * 2.4) My Prompt: I chose this sentence: Don't pay attention to people if they say it's no good. it is a positive sentence but the model is predicting it as negative.Provide a reasonable explanation as to why the BERT model got your sentence wrong. Also provide a plausible method to improve the underlying sentiment model so that this kind of error stops happening.\n",
        "    * 2.5) I gave this prompt initially, but it wasn't working and GPT wasn't paying attention to the hints. So, I decided to search google and look for a sample code. My prompt: Your task is to complete the code to show the model's predicted answer to each question.  Your output should be three strings, each corresponding to the answer of one of the three given questions.\n",
        "    * 2.6) No prompts.\n",
        "    * 2.7) My prompt: I am using BERT for a question answering task. this was the output of the code:\n",
        "Context:\n",
        "your question: \"What are the prerequisites for taking this course?\"\n",
        "ground-truth answer: graduate students in computer science and linguistics\n",
        "predicted answer: lectures will be prerecorded and posted on a weekly basis, along with accompanying readings and assignments.\n",
        "Provide a reasonable explanation as to why the model got your question wrong. Also provide a plausible method to improve the underlying QA model so that this kind of error stops happening\n",
        "\n",
        "*   **Free response**: For each problem for which you used assistance, describe your overall experience with the AI. How helpful was it? Did it just directly give you a good answer, or did you have to edit it? Was its output ever obviously wrong or irrelevant? Did you use it to get the answer or check your own answer?\n",
        "    * 1.1.a) I encountered with this error, so I edited the code a little bit to solve the problem: The vocab attribute was removed from KeyedVector in Gensim 4.0.0.\n",
        "Use KeyedVector's .key_to_index dict, .index_to_key list, and methods .get_vecattr(key, attr) and .set_vecattr(key, attr, new_val) instead.\n",
        "See this [link](https://github.com/RaRe-Technologies/gensim/wiki/Migrating-from-Gensim-3.x-to-4)\n",
        "\n",
        "    * 1.1.b) I personalized examples with my own interest. Also, there was a mistake with one of the chat gpt's examples that answer was accidentally true :) Wrong example: *{'positive': ['child', 'women'], 'negative': ['men']},  # Plural to Singular*\n",
        "\n",
        "    * 1.2.a) Since I wasn't familiar with t-sne, I first watched some youtube videos to learn the concept and then I tried to implement the algorithm by my own with help of this [link](https://www.kaggle.com/code/dmitryyemelyanov/word-vector-dimensionality-reduction-with-t-sne.) For the plot I just asked GPT to make it more beautiful.\n",
        "\n",
        "    * 1.2.b) I first wrote an analysis for this part and asked GPT to correct it's grammar. Again I prompted the question to the GPT to see if I have missed any points or not and my answer was almost compelete.\n",
        "\n",
        "    * 1.3.a) This problem was easy. So I didn't bother to write the code by myself and I gave the prompt directly to gpt.\n",
        "\n",
        "    * 1.3.b) I was a bit confused with this question and I wasn't sure what it wanted. So I gave the whole question alongside the code for the BERT model to see what is GPT's response. I also used the one-shot technique to help GPT with the answer. Then, I understand what was the goal of the question and I wrote the code again by myself. For the analysis part, I saw a decreasing flow in cosine similarity as we went deeper in the netwrk. I wrote my reason for that and then I asked GPT to analyze my answer based on the results of the word \"bat\" and then again I wrote the answer based on GPT's response and my own comprehension.\n",
        "\n",
        "    * 1.4) For this section, I first took a look on some codes on the internet for BERT prediction like this [link](https://gist.github.com/yuchenlin/a2f42d3c4378ed7b83de65c7a2222eb2) and this [link](https://github.com/kriesbeck/masked-language-prediction/blob/master/masked_language_prediction.ipynb). and I got a full intuition of how to work with BERT. Then, I started to code by myself based on these links. I also asked GPT for the code after I finished my code. unfortunately my code performance on prediction wasn't good and as I compared my code with GPT I noticed that my for loop for prediction was too complicated and it was using some unnecesasary functions. So, I changed the for loop with the GPT's loop.\n",
        "\n",
        "    * 2.1.a) First I explored the internet. This [link](https://www.analyticsvidhya.com/blog/2023/12/berts-attention-mechanism/) was very helpful of them all. Then I prompted the question to GPT and Gemini and I wrote 3 sentences as an answer based on that link and LLMs' answers.\n",
        "\n",
        "    * 2.1.b) First I explored the internet. This [link](https://remotebase.com/website/glossary/BERT) was very helpful of them all. Then I prompted the question to GPT and Gemini and I wrote 3 sentences as an answer based on that link and LLMs' answers.\n",
        "\n",
        "    * 2.1.c) First I explored the internet. This [link](https://www.analyticsvidhya.com/blog/2021/05/all-you-need-to-know-about-bert/#:~:text=These%20segment%20embeddings%20enable%20BERT,formidable%20tool%20in%20language%20understanding.) was very helpful of them all. Then I prompted the question to GPT and Gemini and I wrote 3 sentences as an answer based on that link and LLMs' answers.\n",
        "\n",
        "    * 2.1.d) First I explored the internet. This [link](https://medium.com/m/global-identity-2?redirectUrl=https%3A%2F%2Ftowardsdatascience.com%2Fdistilbert-11c8810d29fc#:~:text=BERT%20vs%20DistilBERT%20comparison&text=During%20inference%2C%20DistilBERT%20is%2060,retains%2097%25%20of%20BERT%20performance) was very helpful of them all. Then I prompted the question to GPT and Gemini and I wrote 3 sentences as an answer based on that link and LLMs' answers.\n",
        "\n",
        "    * 2.1.e) First I explored the internet. This [link](https://botpenguin.com/glossary/bert) was very helpful of them all. Then I prompted the question to GPT and Gemini and I wrote 3 sentences as an answer based on that link and LLMs' answers.\n",
        "\n",
        "    * 2.2) This question was easy and I had the pseudo code of it in my mind. So when I saw the GPT's answer, it was the same as the one in my mind.\n",
        "\n",
        "    * 2.3) First, I was thinking to find a good sentence but unfortunately BERT was predicting all of them correctly. I knew I should look for a sarcasm-like sentence. So I searched google for a hard sarcasm-like sentence for sentiment analysis and I found this sentence: *Don't pay attention to people if they say it's no good*. The implementation of the code was like previous cell.\n",
        "    * 2.4) I prompted to both GPT and Gemini, and chose the selected sentences of each as an answer.\n",
        "    * 2.5) For this problem GPT wasn't coding well. I tried to edit the code but it was a bit long and complex. I knew that it wasn't the answer even if I debugged it. So, I searched the internet for a sample code of QA in BERT and this [link](https://github.com/angelosps/Question-Answering/blob/main/Question_Answering.ipynb) was helpful.\n",
        "    * 2.6) I didn't use GPT for this part. The code for this part was similar like the previous cell.\n",
        "\n",
        "    * 2.7) Besides GPT and Gemini's answers, I read this [article](https://medium.com/@xiaohan_63326/fine-tune-fine-tuning-bert-for-question-answering-qa-task-5c29e3d518f1#:~:text=By%20tokenizing%20the%20input%2C%20it,the%20answers%20in%20the%20input), and used its ideas for answering the question."
      ]
    }
  ],
  "metadata": {
    "accelerator": "GPU",
    "colab": {
      "collapsed_sections": [
        "SeuDs79G6ka1",
        "4_ZM8bTI-HNP",
        "lfWAtDLLx8SK",
        "SMugs2KHRUZN",
        "SLdj1V1yZnSO",
        "nTdT62X1cSfg",
        "wt4_JfmX7w5d"
      ],
      "provenance": [],
      "toc_visible": true,
      "gpuType": "T4"
    },
    "kernelspec": {
      "display_name": "Python 3",
      "name": "python3"
    },
    "widgets": {
      "application/vnd.jupyter.widget-state+json": {
        "ec89674931b94c30b7247b677426cefc": {
          "model_module": "@jupyter-widgets/controls",
          "model_name": "HBoxModel",
          "model_module_version": "1.5.0",
          "state": {
            "_dom_classes": [],
            "_model_module": "@jupyter-widgets/controls",
            "_model_module_version": "1.5.0",
            "_model_name": "HBoxModel",
            "_view_count": null,
            "_view_module": "@jupyter-widgets/controls",
            "_view_module_version": "1.5.0",
            "_view_name": "HBoxView",
            "box_style": "",
            "children": [
              "IPY_MODEL_5ab6a131ffa9495d9c02f841d4c3aaba",
              "IPY_MODEL_306170e65d204f549176d8da13514499",
              "IPY_MODEL_b6fc359cfb944a0f8c13543991f6976b"
            ],
            "layout": "IPY_MODEL_3dbbfa91c04d4fa8bf411a60c80676d9"
          }
        },
        "5ab6a131ffa9495d9c02f841d4c3aaba": {
          "model_module": "@jupyter-widgets/controls",
          "model_name": "HTMLModel",
          "model_module_version": "1.5.0",
          "state": {
            "_dom_classes": [],
            "_model_module": "@jupyter-widgets/controls",
            "_model_module_version": "1.5.0",
            "_model_name": "HTMLModel",
            "_view_count": null,
            "_view_module": "@jupyter-widgets/controls",
            "_view_module_version": "1.5.0",
            "_view_name": "HTMLView",
            "description": "",
            "description_tooltip": null,
            "layout": "IPY_MODEL_e0ce50a3a82b4eee883345e3a9b669d8",
            "placeholder": "​",
            "style": "IPY_MODEL_3d3ad84f681a44959678dcb911961280",
            "value": "tokenizer_config.json: 100%"
          }
        },
        "306170e65d204f549176d8da13514499": {
          "model_module": "@jupyter-widgets/controls",
          "model_name": "FloatProgressModel",
          "model_module_version": "1.5.0",
          "state": {
            "_dom_classes": [],
            "_model_module": "@jupyter-widgets/controls",
            "_model_module_version": "1.5.0",
            "_model_name": "FloatProgressModel",
            "_view_count": null,
            "_view_module": "@jupyter-widgets/controls",
            "_view_module_version": "1.5.0",
            "_view_name": "ProgressView",
            "bar_style": "success",
            "description": "",
            "description_tooltip": null,
            "layout": "IPY_MODEL_f854e4015e0f422ba9215b0234bcd06d",
            "max": 48,
            "min": 0,
            "orientation": "horizontal",
            "style": "IPY_MODEL_9e8b740025ac43f490232a305e5d7cae",
            "value": 48
          }
        },
        "b6fc359cfb944a0f8c13543991f6976b": {
          "model_module": "@jupyter-widgets/controls",
          "model_name": "HTMLModel",
          "model_module_version": "1.5.0",
          "state": {
            "_dom_classes": [],
            "_model_module": "@jupyter-widgets/controls",
            "_model_module_version": "1.5.0",
            "_model_name": "HTMLModel",
            "_view_count": null,
            "_view_module": "@jupyter-widgets/controls",
            "_view_module_version": "1.5.0",
            "_view_name": "HTMLView",
            "description": "",
            "description_tooltip": null,
            "layout": "IPY_MODEL_cba8b5db15f94fedab795af783a9f153",
            "placeholder": "​",
            "style": "IPY_MODEL_3cd3cbf1ea0e435c8b4acce39b484da3",
            "value": " 48.0/48.0 [00:00&lt;00:00, 3.07kB/s]"
          }
        },
        "3dbbfa91c04d4fa8bf411a60c80676d9": {
          "model_module": "@jupyter-widgets/base",
          "model_name": "LayoutModel",
          "model_module_version": "1.2.0",
          "state": {
            "_model_module": "@jupyter-widgets/base",
            "_model_module_version": "1.2.0",
            "_model_name": "LayoutModel",
            "_view_count": null,
            "_view_module": "@jupyter-widgets/base",
            "_view_module_version": "1.2.0",
            "_view_name": "LayoutView",
            "align_content": null,
            "align_items": null,
            "align_self": null,
            "border": null,
            "bottom": null,
            "display": null,
            "flex": null,
            "flex_flow": null,
            "grid_area": null,
            "grid_auto_columns": null,
            "grid_auto_flow": null,
            "grid_auto_rows": null,
            "grid_column": null,
            "grid_gap": null,
            "grid_row": null,
            "grid_template_areas": null,
            "grid_template_columns": null,
            "grid_template_rows": null,
            "height": null,
            "justify_content": null,
            "justify_items": null,
            "left": null,
            "margin": null,
            "max_height": null,
            "max_width": null,
            "min_height": null,
            "min_width": null,
            "object_fit": null,
            "object_position": null,
            "order": null,
            "overflow": null,
            "overflow_x": null,
            "overflow_y": null,
            "padding": null,
            "right": null,
            "top": null,
            "visibility": null,
            "width": null
          }
        },
        "e0ce50a3a82b4eee883345e3a9b669d8": {
          "model_module": "@jupyter-widgets/base",
          "model_name": "LayoutModel",
          "model_module_version": "1.2.0",
          "state": {
            "_model_module": "@jupyter-widgets/base",
            "_model_module_version": "1.2.0",
            "_model_name": "LayoutModel",
            "_view_count": null,
            "_view_module": "@jupyter-widgets/base",
            "_view_module_version": "1.2.0",
            "_view_name": "LayoutView",
            "align_content": null,
            "align_items": null,
            "align_self": null,
            "border": null,
            "bottom": null,
            "display": null,
            "flex": null,
            "flex_flow": null,
            "grid_area": null,
            "grid_auto_columns": null,
            "grid_auto_flow": null,
            "grid_auto_rows": null,
            "grid_column": null,
            "grid_gap": null,
            "grid_row": null,
            "grid_template_areas": null,
            "grid_template_columns": null,
            "grid_template_rows": null,
            "height": null,
            "justify_content": null,
            "justify_items": null,
            "left": null,
            "margin": null,
            "max_height": null,
            "max_width": null,
            "min_height": null,
            "min_width": null,
            "object_fit": null,
            "object_position": null,
            "order": null,
            "overflow": null,
            "overflow_x": null,
            "overflow_y": null,
            "padding": null,
            "right": null,
            "top": null,
            "visibility": null,
            "width": null
          }
        },
        "3d3ad84f681a44959678dcb911961280": {
          "model_module": "@jupyter-widgets/controls",
          "model_name": "DescriptionStyleModel",
          "model_module_version": "1.5.0",
          "state": {
            "_model_module": "@jupyter-widgets/controls",
            "_model_module_version": "1.5.0",
            "_model_name": "DescriptionStyleModel",
            "_view_count": null,
            "_view_module": "@jupyter-widgets/base",
            "_view_module_version": "1.2.0",
            "_view_name": "StyleView",
            "description_width": ""
          }
        },
        "f854e4015e0f422ba9215b0234bcd06d": {
          "model_module": "@jupyter-widgets/base",
          "model_name": "LayoutModel",
          "model_module_version": "1.2.0",
          "state": {
            "_model_module": "@jupyter-widgets/base",
            "_model_module_version": "1.2.0",
            "_model_name": "LayoutModel",
            "_view_count": null,
            "_view_module": "@jupyter-widgets/base",
            "_view_module_version": "1.2.0",
            "_view_name": "LayoutView",
            "align_content": null,
            "align_items": null,
            "align_self": null,
            "border": null,
            "bottom": null,
            "display": null,
            "flex": null,
            "flex_flow": null,
            "grid_area": null,
            "grid_auto_columns": null,
            "grid_auto_flow": null,
            "grid_auto_rows": null,
            "grid_column": null,
            "grid_gap": null,
            "grid_row": null,
            "grid_template_areas": null,
            "grid_template_columns": null,
            "grid_template_rows": null,
            "height": null,
            "justify_content": null,
            "justify_items": null,
            "left": null,
            "margin": null,
            "max_height": null,
            "max_width": null,
            "min_height": null,
            "min_width": null,
            "object_fit": null,
            "object_position": null,
            "order": null,
            "overflow": null,
            "overflow_x": null,
            "overflow_y": null,
            "padding": null,
            "right": null,
            "top": null,
            "visibility": null,
            "width": null
          }
        },
        "9e8b740025ac43f490232a305e5d7cae": {
          "model_module": "@jupyter-widgets/controls",
          "model_name": "ProgressStyleModel",
          "model_module_version": "1.5.0",
          "state": {
            "_model_module": "@jupyter-widgets/controls",
            "_model_module_version": "1.5.0",
            "_model_name": "ProgressStyleModel",
            "_view_count": null,
            "_view_module": "@jupyter-widgets/base",
            "_view_module_version": "1.2.0",
            "_view_name": "StyleView",
            "bar_color": null,
            "description_width": ""
          }
        },
        "cba8b5db15f94fedab795af783a9f153": {
          "model_module": "@jupyter-widgets/base",
          "model_name": "LayoutModel",
          "model_module_version": "1.2.0",
          "state": {
            "_model_module": "@jupyter-widgets/base",
            "_model_module_version": "1.2.0",
            "_model_name": "LayoutModel",
            "_view_count": null,
            "_view_module": "@jupyter-widgets/base",
            "_view_module_version": "1.2.0",
            "_view_name": "LayoutView",
            "align_content": null,
            "align_items": null,
            "align_self": null,
            "border": null,
            "bottom": null,
            "display": null,
            "flex": null,
            "flex_flow": null,
            "grid_area": null,
            "grid_auto_columns": null,
            "grid_auto_flow": null,
            "grid_auto_rows": null,
            "grid_column": null,
            "grid_gap": null,
            "grid_row": null,
            "grid_template_areas": null,
            "grid_template_columns": null,
            "grid_template_rows": null,
            "height": null,
            "justify_content": null,
            "justify_items": null,
            "left": null,
            "margin": null,
            "max_height": null,
            "max_width": null,
            "min_height": null,
            "min_width": null,
            "object_fit": null,
            "object_position": null,
            "order": null,
            "overflow": null,
            "overflow_x": null,
            "overflow_y": null,
            "padding": null,
            "right": null,
            "top": null,
            "visibility": null,
            "width": null
          }
        },
        "3cd3cbf1ea0e435c8b4acce39b484da3": {
          "model_module": "@jupyter-widgets/controls",
          "model_name": "DescriptionStyleModel",
          "model_module_version": "1.5.0",
          "state": {
            "_model_module": "@jupyter-widgets/controls",
            "_model_module_version": "1.5.0",
            "_model_name": "DescriptionStyleModel",
            "_view_count": null,
            "_view_module": "@jupyter-widgets/base",
            "_view_module_version": "1.2.0",
            "_view_name": "StyleView",
            "description_width": ""
          }
        },
        "e222c25931e84853bc3c7d554372435d": {
          "model_module": "@jupyter-widgets/controls",
          "model_name": "HBoxModel",
          "model_module_version": "1.5.0",
          "state": {
            "_dom_classes": [],
            "_model_module": "@jupyter-widgets/controls",
            "_model_module_version": "1.5.0",
            "_model_name": "HBoxModel",
            "_view_count": null,
            "_view_module": "@jupyter-widgets/controls",
            "_view_module_version": "1.5.0",
            "_view_name": "HBoxView",
            "box_style": "",
            "children": [
              "IPY_MODEL_a6e3e88b5c1145c5b1aa0a8c5e60dd78",
              "IPY_MODEL_1010b98e4a094dde9ec6981ae76f759d",
              "IPY_MODEL_80e0c33b90d447398467173fda4b9318"
            ],
            "layout": "IPY_MODEL_3f60bf1ae4f3423b952f8904022ee1f9"
          }
        },
        "a6e3e88b5c1145c5b1aa0a8c5e60dd78": {
          "model_module": "@jupyter-widgets/controls",
          "model_name": "HTMLModel",
          "model_module_version": "1.5.0",
          "state": {
            "_dom_classes": [],
            "_model_module": "@jupyter-widgets/controls",
            "_model_module_version": "1.5.0",
            "_model_name": "HTMLModel",
            "_view_count": null,
            "_view_module": "@jupyter-widgets/controls",
            "_view_module_version": "1.5.0",
            "_view_name": "HTMLView",
            "description": "",
            "description_tooltip": null,
            "layout": "IPY_MODEL_85180315e8af42d0b5371b5f59b312f2",
            "placeholder": "​",
            "style": "IPY_MODEL_56aaa73151db4afea0bd274a6b6e5c04",
            "value": "vocab.txt: 100%"
          }
        },
        "1010b98e4a094dde9ec6981ae76f759d": {
          "model_module": "@jupyter-widgets/controls",
          "model_name": "FloatProgressModel",
          "model_module_version": "1.5.0",
          "state": {
            "_dom_classes": [],
            "_model_module": "@jupyter-widgets/controls",
            "_model_module_version": "1.5.0",
            "_model_name": "FloatProgressModel",
            "_view_count": null,
            "_view_module": "@jupyter-widgets/controls",
            "_view_module_version": "1.5.0",
            "_view_name": "ProgressView",
            "bar_style": "success",
            "description": "",
            "description_tooltip": null,
            "layout": "IPY_MODEL_2c41afab53c049a3a11f94a397e7b68b",
            "max": 231508,
            "min": 0,
            "orientation": "horizontal",
            "style": "IPY_MODEL_619be82306e948a0b93d759da08c6ef9",
            "value": 231508
          }
        },
        "80e0c33b90d447398467173fda4b9318": {
          "model_module": "@jupyter-widgets/controls",
          "model_name": "HTMLModel",
          "model_module_version": "1.5.0",
          "state": {
            "_dom_classes": [],
            "_model_module": "@jupyter-widgets/controls",
            "_model_module_version": "1.5.0",
            "_model_name": "HTMLModel",
            "_view_count": null,
            "_view_module": "@jupyter-widgets/controls",
            "_view_module_version": "1.5.0",
            "_view_name": "HTMLView",
            "description": "",
            "description_tooltip": null,
            "layout": "IPY_MODEL_271c47778d124e548601a3d95515f333",
            "placeholder": "​",
            "style": "IPY_MODEL_c3b8d7f5fad44a2eb5e529541614853c",
            "value": " 232k/232k [00:00&lt;00:00, 4.22MB/s]"
          }
        },
        "3f60bf1ae4f3423b952f8904022ee1f9": {
          "model_module": "@jupyter-widgets/base",
          "model_name": "LayoutModel",
          "model_module_version": "1.2.0",
          "state": {
            "_model_module": "@jupyter-widgets/base",
            "_model_module_version": "1.2.0",
            "_model_name": "LayoutModel",
            "_view_count": null,
            "_view_module": "@jupyter-widgets/base",
            "_view_module_version": "1.2.0",
            "_view_name": "LayoutView",
            "align_content": null,
            "align_items": null,
            "align_self": null,
            "border": null,
            "bottom": null,
            "display": null,
            "flex": null,
            "flex_flow": null,
            "grid_area": null,
            "grid_auto_columns": null,
            "grid_auto_flow": null,
            "grid_auto_rows": null,
            "grid_column": null,
            "grid_gap": null,
            "grid_row": null,
            "grid_template_areas": null,
            "grid_template_columns": null,
            "grid_template_rows": null,
            "height": null,
            "justify_content": null,
            "justify_items": null,
            "left": null,
            "margin": null,
            "max_height": null,
            "max_width": null,
            "min_height": null,
            "min_width": null,
            "object_fit": null,
            "object_position": null,
            "order": null,
            "overflow": null,
            "overflow_x": null,
            "overflow_y": null,
            "padding": null,
            "right": null,
            "top": null,
            "visibility": null,
            "width": null
          }
        },
        "85180315e8af42d0b5371b5f59b312f2": {
          "model_module": "@jupyter-widgets/base",
          "model_name": "LayoutModel",
          "model_module_version": "1.2.0",
          "state": {
            "_model_module": "@jupyter-widgets/base",
            "_model_module_version": "1.2.0",
            "_model_name": "LayoutModel",
            "_view_count": null,
            "_view_module": "@jupyter-widgets/base",
            "_view_module_version": "1.2.0",
            "_view_name": "LayoutView",
            "align_content": null,
            "align_items": null,
            "align_self": null,
            "border": null,
            "bottom": null,
            "display": null,
            "flex": null,
            "flex_flow": null,
            "grid_area": null,
            "grid_auto_columns": null,
            "grid_auto_flow": null,
            "grid_auto_rows": null,
            "grid_column": null,
            "grid_gap": null,
            "grid_row": null,
            "grid_template_areas": null,
            "grid_template_columns": null,
            "grid_template_rows": null,
            "height": null,
            "justify_content": null,
            "justify_items": null,
            "left": null,
            "margin": null,
            "max_height": null,
            "max_width": null,
            "min_height": null,
            "min_width": null,
            "object_fit": null,
            "object_position": null,
            "order": null,
            "overflow": null,
            "overflow_x": null,
            "overflow_y": null,
            "padding": null,
            "right": null,
            "top": null,
            "visibility": null,
            "width": null
          }
        },
        "56aaa73151db4afea0bd274a6b6e5c04": {
          "model_module": "@jupyter-widgets/controls",
          "model_name": "DescriptionStyleModel",
          "model_module_version": "1.5.0",
          "state": {
            "_model_module": "@jupyter-widgets/controls",
            "_model_module_version": "1.5.0",
            "_model_name": "DescriptionStyleModel",
            "_view_count": null,
            "_view_module": "@jupyter-widgets/base",
            "_view_module_version": "1.2.0",
            "_view_name": "StyleView",
            "description_width": ""
          }
        },
        "2c41afab53c049a3a11f94a397e7b68b": {
          "model_module": "@jupyter-widgets/base",
          "model_name": "LayoutModel",
          "model_module_version": "1.2.0",
          "state": {
            "_model_module": "@jupyter-widgets/base",
            "_model_module_version": "1.2.0",
            "_model_name": "LayoutModel",
            "_view_count": null,
            "_view_module": "@jupyter-widgets/base",
            "_view_module_version": "1.2.0",
            "_view_name": "LayoutView",
            "align_content": null,
            "align_items": null,
            "align_self": null,
            "border": null,
            "bottom": null,
            "display": null,
            "flex": null,
            "flex_flow": null,
            "grid_area": null,
            "grid_auto_columns": null,
            "grid_auto_flow": null,
            "grid_auto_rows": null,
            "grid_column": null,
            "grid_gap": null,
            "grid_row": null,
            "grid_template_areas": null,
            "grid_template_columns": null,
            "grid_template_rows": null,
            "height": null,
            "justify_content": null,
            "justify_items": null,
            "left": null,
            "margin": null,
            "max_height": null,
            "max_width": null,
            "min_height": null,
            "min_width": null,
            "object_fit": null,
            "object_position": null,
            "order": null,
            "overflow": null,
            "overflow_x": null,
            "overflow_y": null,
            "padding": null,
            "right": null,
            "top": null,
            "visibility": null,
            "width": null
          }
        },
        "619be82306e948a0b93d759da08c6ef9": {
          "model_module": "@jupyter-widgets/controls",
          "model_name": "ProgressStyleModel",
          "model_module_version": "1.5.0",
          "state": {
            "_model_module": "@jupyter-widgets/controls",
            "_model_module_version": "1.5.0",
            "_model_name": "ProgressStyleModel",
            "_view_count": null,
            "_view_module": "@jupyter-widgets/base",
            "_view_module_version": "1.2.0",
            "_view_name": "StyleView",
            "bar_color": null,
            "description_width": ""
          }
        },
        "271c47778d124e548601a3d95515f333": {
          "model_module": "@jupyter-widgets/base",
          "model_name": "LayoutModel",
          "model_module_version": "1.2.0",
          "state": {
            "_model_module": "@jupyter-widgets/base",
            "_model_module_version": "1.2.0",
            "_model_name": "LayoutModel",
            "_view_count": null,
            "_view_module": "@jupyter-widgets/base",
            "_view_module_version": "1.2.0",
            "_view_name": "LayoutView",
            "align_content": null,
            "align_items": null,
            "align_self": null,
            "border": null,
            "bottom": null,
            "display": null,
            "flex": null,
            "flex_flow": null,
            "grid_area": null,
            "grid_auto_columns": null,
            "grid_auto_flow": null,
            "grid_auto_rows": null,
            "grid_column": null,
            "grid_gap": null,
            "grid_row": null,
            "grid_template_areas": null,
            "grid_template_columns": null,
            "grid_template_rows": null,
            "height": null,
            "justify_content": null,
            "justify_items": null,
            "left": null,
            "margin": null,
            "max_height": null,
            "max_width": null,
            "min_height": null,
            "min_width": null,
            "object_fit": null,
            "object_position": null,
            "order": null,
            "overflow": null,
            "overflow_x": null,
            "overflow_y": null,
            "padding": null,
            "right": null,
            "top": null,
            "visibility": null,
            "width": null
          }
        },
        "c3b8d7f5fad44a2eb5e529541614853c": {
          "model_module": "@jupyter-widgets/controls",
          "model_name": "DescriptionStyleModel",
          "model_module_version": "1.5.0",
          "state": {
            "_model_module": "@jupyter-widgets/controls",
            "_model_module_version": "1.5.0",
            "_model_name": "DescriptionStyleModel",
            "_view_count": null,
            "_view_module": "@jupyter-widgets/base",
            "_view_module_version": "1.2.0",
            "_view_name": "StyleView",
            "description_width": ""
          }
        },
        "91b6b47a65e243239335c0af01739a1b": {
          "model_module": "@jupyter-widgets/controls",
          "model_name": "HBoxModel",
          "model_module_version": "1.5.0",
          "state": {
            "_dom_classes": [],
            "_model_module": "@jupyter-widgets/controls",
            "_model_module_version": "1.5.0",
            "_model_name": "HBoxModel",
            "_view_count": null,
            "_view_module": "@jupyter-widgets/controls",
            "_view_module_version": "1.5.0",
            "_view_name": "HBoxView",
            "box_style": "",
            "children": [
              "IPY_MODEL_8da9c957a9bf4629bf58a8ba808ed2b5",
              "IPY_MODEL_948f3280e7564f6f8374036a5b622836",
              "IPY_MODEL_6ab3fac13db641a9b3c997203589bb4e"
            ],
            "layout": "IPY_MODEL_3fb91a59d3a14c989c98add858bf246b"
          }
        },
        "8da9c957a9bf4629bf58a8ba808ed2b5": {
          "model_module": "@jupyter-widgets/controls",
          "model_name": "HTMLModel",
          "model_module_version": "1.5.0",
          "state": {
            "_dom_classes": [],
            "_model_module": "@jupyter-widgets/controls",
            "_model_module_version": "1.5.0",
            "_model_name": "HTMLModel",
            "_view_count": null,
            "_view_module": "@jupyter-widgets/controls",
            "_view_module_version": "1.5.0",
            "_view_name": "HTMLView",
            "description": "",
            "description_tooltip": null,
            "layout": "IPY_MODEL_a76afb7b41d54125974abd99f9ad4ab7",
            "placeholder": "​",
            "style": "IPY_MODEL_bc5eaaf9ef0d476db983ca2cfc34dc7e",
            "value": "tokenizer.json: 100%"
          }
        },
        "948f3280e7564f6f8374036a5b622836": {
          "model_module": "@jupyter-widgets/controls",
          "model_name": "FloatProgressModel",
          "model_module_version": "1.5.0",
          "state": {
            "_dom_classes": [],
            "_model_module": "@jupyter-widgets/controls",
            "_model_module_version": "1.5.0",
            "_model_name": "FloatProgressModel",
            "_view_count": null,
            "_view_module": "@jupyter-widgets/controls",
            "_view_module_version": "1.5.0",
            "_view_name": "ProgressView",
            "bar_style": "success",
            "description": "",
            "description_tooltip": null,
            "layout": "IPY_MODEL_3b900fd3cc0c4838af32c3e764a51d8b",
            "max": 466062,
            "min": 0,
            "orientation": "horizontal",
            "style": "IPY_MODEL_89455948e3424ee4b6a1d8e32ab87a22",
            "value": 466062
          }
        },
        "6ab3fac13db641a9b3c997203589bb4e": {
          "model_module": "@jupyter-widgets/controls",
          "model_name": "HTMLModel",
          "model_module_version": "1.5.0",
          "state": {
            "_dom_classes": [],
            "_model_module": "@jupyter-widgets/controls",
            "_model_module_version": "1.5.0",
            "_model_name": "HTMLModel",
            "_view_count": null,
            "_view_module": "@jupyter-widgets/controls",
            "_view_module_version": "1.5.0",
            "_view_name": "HTMLView",
            "description": "",
            "description_tooltip": null,
            "layout": "IPY_MODEL_c918c3cf8d4e49f69bb9913135972911",
            "placeholder": "​",
            "style": "IPY_MODEL_1b38c0c5457746edb9bad651f720d323",
            "value": " 466k/466k [00:00&lt;00:00, 9.17MB/s]"
          }
        },
        "3fb91a59d3a14c989c98add858bf246b": {
          "model_module": "@jupyter-widgets/base",
          "model_name": "LayoutModel",
          "model_module_version": "1.2.0",
          "state": {
            "_model_module": "@jupyter-widgets/base",
            "_model_module_version": "1.2.0",
            "_model_name": "LayoutModel",
            "_view_count": null,
            "_view_module": "@jupyter-widgets/base",
            "_view_module_version": "1.2.0",
            "_view_name": "LayoutView",
            "align_content": null,
            "align_items": null,
            "align_self": null,
            "border": null,
            "bottom": null,
            "display": null,
            "flex": null,
            "flex_flow": null,
            "grid_area": null,
            "grid_auto_columns": null,
            "grid_auto_flow": null,
            "grid_auto_rows": null,
            "grid_column": null,
            "grid_gap": null,
            "grid_row": null,
            "grid_template_areas": null,
            "grid_template_columns": null,
            "grid_template_rows": null,
            "height": null,
            "justify_content": null,
            "justify_items": null,
            "left": null,
            "margin": null,
            "max_height": null,
            "max_width": null,
            "min_height": null,
            "min_width": null,
            "object_fit": null,
            "object_position": null,
            "order": null,
            "overflow": null,
            "overflow_x": null,
            "overflow_y": null,
            "padding": null,
            "right": null,
            "top": null,
            "visibility": null,
            "width": null
          }
        },
        "a76afb7b41d54125974abd99f9ad4ab7": {
          "model_module": "@jupyter-widgets/base",
          "model_name": "LayoutModel",
          "model_module_version": "1.2.0",
          "state": {
            "_model_module": "@jupyter-widgets/base",
            "_model_module_version": "1.2.0",
            "_model_name": "LayoutModel",
            "_view_count": null,
            "_view_module": "@jupyter-widgets/base",
            "_view_module_version": "1.2.0",
            "_view_name": "LayoutView",
            "align_content": null,
            "align_items": null,
            "align_self": null,
            "border": null,
            "bottom": null,
            "display": null,
            "flex": null,
            "flex_flow": null,
            "grid_area": null,
            "grid_auto_columns": null,
            "grid_auto_flow": null,
            "grid_auto_rows": null,
            "grid_column": null,
            "grid_gap": null,
            "grid_row": null,
            "grid_template_areas": null,
            "grid_template_columns": null,
            "grid_template_rows": null,
            "height": null,
            "justify_content": null,
            "justify_items": null,
            "left": null,
            "margin": null,
            "max_height": null,
            "max_width": null,
            "min_height": null,
            "min_width": null,
            "object_fit": null,
            "object_position": null,
            "order": null,
            "overflow": null,
            "overflow_x": null,
            "overflow_y": null,
            "padding": null,
            "right": null,
            "top": null,
            "visibility": null,
            "width": null
          }
        },
        "bc5eaaf9ef0d476db983ca2cfc34dc7e": {
          "model_module": "@jupyter-widgets/controls",
          "model_name": "DescriptionStyleModel",
          "model_module_version": "1.5.0",
          "state": {
            "_model_module": "@jupyter-widgets/controls",
            "_model_module_version": "1.5.0",
            "_model_name": "DescriptionStyleModel",
            "_view_count": null,
            "_view_module": "@jupyter-widgets/base",
            "_view_module_version": "1.2.0",
            "_view_name": "StyleView",
            "description_width": ""
          }
        },
        "3b900fd3cc0c4838af32c3e764a51d8b": {
          "model_module": "@jupyter-widgets/base",
          "model_name": "LayoutModel",
          "model_module_version": "1.2.0",
          "state": {
            "_model_module": "@jupyter-widgets/base",
            "_model_module_version": "1.2.0",
            "_model_name": "LayoutModel",
            "_view_count": null,
            "_view_module": "@jupyter-widgets/base",
            "_view_module_version": "1.2.0",
            "_view_name": "LayoutView",
            "align_content": null,
            "align_items": null,
            "align_self": null,
            "border": null,
            "bottom": null,
            "display": null,
            "flex": null,
            "flex_flow": null,
            "grid_area": null,
            "grid_auto_columns": null,
            "grid_auto_flow": null,
            "grid_auto_rows": null,
            "grid_column": null,
            "grid_gap": null,
            "grid_row": null,
            "grid_template_areas": null,
            "grid_template_columns": null,
            "grid_template_rows": null,
            "height": null,
            "justify_content": null,
            "justify_items": null,
            "left": null,
            "margin": null,
            "max_height": null,
            "max_width": null,
            "min_height": null,
            "min_width": null,
            "object_fit": null,
            "object_position": null,
            "order": null,
            "overflow": null,
            "overflow_x": null,
            "overflow_y": null,
            "padding": null,
            "right": null,
            "top": null,
            "visibility": null,
            "width": null
          }
        },
        "89455948e3424ee4b6a1d8e32ab87a22": {
          "model_module": "@jupyter-widgets/controls",
          "model_name": "ProgressStyleModel",
          "model_module_version": "1.5.0",
          "state": {
            "_model_module": "@jupyter-widgets/controls",
            "_model_module_version": "1.5.0",
            "_model_name": "ProgressStyleModel",
            "_view_count": null,
            "_view_module": "@jupyter-widgets/base",
            "_view_module_version": "1.2.0",
            "_view_name": "StyleView",
            "bar_color": null,
            "description_width": ""
          }
        },
        "c918c3cf8d4e49f69bb9913135972911": {
          "model_module": "@jupyter-widgets/base",
          "model_name": "LayoutModel",
          "model_module_version": "1.2.0",
          "state": {
            "_model_module": "@jupyter-widgets/base",
            "_model_module_version": "1.2.0",
            "_model_name": "LayoutModel",
            "_view_count": null,
            "_view_module": "@jupyter-widgets/base",
            "_view_module_version": "1.2.0",
            "_view_name": "LayoutView",
            "align_content": null,
            "align_items": null,
            "align_self": null,
            "border": null,
            "bottom": null,
            "display": null,
            "flex": null,
            "flex_flow": null,
            "grid_area": null,
            "grid_auto_columns": null,
            "grid_auto_flow": null,
            "grid_auto_rows": null,
            "grid_column": null,
            "grid_gap": null,
            "grid_row": null,
            "grid_template_areas": null,
            "grid_template_columns": null,
            "grid_template_rows": null,
            "height": null,
            "justify_content": null,
            "justify_items": null,
            "left": null,
            "margin": null,
            "max_height": null,
            "max_width": null,
            "min_height": null,
            "min_width": null,
            "object_fit": null,
            "object_position": null,
            "order": null,
            "overflow": null,
            "overflow_x": null,
            "overflow_y": null,
            "padding": null,
            "right": null,
            "top": null,
            "visibility": null,
            "width": null
          }
        },
        "1b38c0c5457746edb9bad651f720d323": {
          "model_module": "@jupyter-widgets/controls",
          "model_name": "DescriptionStyleModel",
          "model_module_version": "1.5.0",
          "state": {
            "_model_module": "@jupyter-widgets/controls",
            "_model_module_version": "1.5.0",
            "_model_name": "DescriptionStyleModel",
            "_view_count": null,
            "_view_module": "@jupyter-widgets/base",
            "_view_module_version": "1.2.0",
            "_view_name": "StyleView",
            "description_width": ""
          }
        },
        "0363de64f17b4221ae1a0f5b9c962fb9": {
          "model_module": "@jupyter-widgets/controls",
          "model_name": "HBoxModel",
          "model_module_version": "1.5.0",
          "state": {
            "_dom_classes": [],
            "_model_module": "@jupyter-widgets/controls",
            "_model_module_version": "1.5.0",
            "_model_name": "HBoxModel",
            "_view_count": null,
            "_view_module": "@jupyter-widgets/controls",
            "_view_module_version": "1.5.0",
            "_view_name": "HBoxView",
            "box_style": "",
            "children": [
              "IPY_MODEL_a7d724d2f95b4aaaa213e15017e1e9a8",
              "IPY_MODEL_bd8c7934710c40859e18e098eac29072",
              "IPY_MODEL_d4055db29e7e4a5eaf39e5b21142cecf"
            ],
            "layout": "IPY_MODEL_6aa207fbbc4d4d4ba44450bf67a765c6"
          }
        },
        "a7d724d2f95b4aaaa213e15017e1e9a8": {
          "model_module": "@jupyter-widgets/controls",
          "model_name": "HTMLModel",
          "model_module_version": "1.5.0",
          "state": {
            "_dom_classes": [],
            "_model_module": "@jupyter-widgets/controls",
            "_model_module_version": "1.5.0",
            "_model_name": "HTMLModel",
            "_view_count": null,
            "_view_module": "@jupyter-widgets/controls",
            "_view_module_version": "1.5.0",
            "_view_name": "HTMLView",
            "description": "",
            "description_tooltip": null,
            "layout": "IPY_MODEL_11ca41c3a6ee44868063e770834943b3",
            "placeholder": "​",
            "style": "IPY_MODEL_a698b4fade514bc48cabe1a863838ff9",
            "value": "config.json: 100%"
          }
        },
        "bd8c7934710c40859e18e098eac29072": {
          "model_module": "@jupyter-widgets/controls",
          "model_name": "FloatProgressModel",
          "model_module_version": "1.5.0",
          "state": {
            "_dom_classes": [],
            "_model_module": "@jupyter-widgets/controls",
            "_model_module_version": "1.5.0",
            "_model_name": "FloatProgressModel",
            "_view_count": null,
            "_view_module": "@jupyter-widgets/controls",
            "_view_module_version": "1.5.0",
            "_view_name": "ProgressView",
            "bar_style": "success",
            "description": "",
            "description_tooltip": null,
            "layout": "IPY_MODEL_87c97bf1b83d49a9a0f6b86907e2bbdf",
            "max": 570,
            "min": 0,
            "orientation": "horizontal",
            "style": "IPY_MODEL_819710f79b2f4387bdc6c191caa7b288",
            "value": 570
          }
        },
        "d4055db29e7e4a5eaf39e5b21142cecf": {
          "model_module": "@jupyter-widgets/controls",
          "model_name": "HTMLModel",
          "model_module_version": "1.5.0",
          "state": {
            "_dom_classes": [],
            "_model_module": "@jupyter-widgets/controls",
            "_model_module_version": "1.5.0",
            "_model_name": "HTMLModel",
            "_view_count": null,
            "_view_module": "@jupyter-widgets/controls",
            "_view_module_version": "1.5.0",
            "_view_name": "HTMLView",
            "description": "",
            "description_tooltip": null,
            "layout": "IPY_MODEL_3f64868da483484b9079ea78fb5faa53",
            "placeholder": "​",
            "style": "IPY_MODEL_af49bfa469f546979184b85c6d56648c",
            "value": " 570/570 [00:00&lt;00:00, 25.5kB/s]"
          }
        },
        "6aa207fbbc4d4d4ba44450bf67a765c6": {
          "model_module": "@jupyter-widgets/base",
          "model_name": "LayoutModel",
          "model_module_version": "1.2.0",
          "state": {
            "_model_module": "@jupyter-widgets/base",
            "_model_module_version": "1.2.0",
            "_model_name": "LayoutModel",
            "_view_count": null,
            "_view_module": "@jupyter-widgets/base",
            "_view_module_version": "1.2.0",
            "_view_name": "LayoutView",
            "align_content": null,
            "align_items": null,
            "align_self": null,
            "border": null,
            "bottom": null,
            "display": null,
            "flex": null,
            "flex_flow": null,
            "grid_area": null,
            "grid_auto_columns": null,
            "grid_auto_flow": null,
            "grid_auto_rows": null,
            "grid_column": null,
            "grid_gap": null,
            "grid_row": null,
            "grid_template_areas": null,
            "grid_template_columns": null,
            "grid_template_rows": null,
            "height": null,
            "justify_content": null,
            "justify_items": null,
            "left": null,
            "margin": null,
            "max_height": null,
            "max_width": null,
            "min_height": null,
            "min_width": null,
            "object_fit": null,
            "object_position": null,
            "order": null,
            "overflow": null,
            "overflow_x": null,
            "overflow_y": null,
            "padding": null,
            "right": null,
            "top": null,
            "visibility": null,
            "width": null
          }
        },
        "11ca41c3a6ee44868063e770834943b3": {
          "model_module": "@jupyter-widgets/base",
          "model_name": "LayoutModel",
          "model_module_version": "1.2.0",
          "state": {
            "_model_module": "@jupyter-widgets/base",
            "_model_module_version": "1.2.0",
            "_model_name": "LayoutModel",
            "_view_count": null,
            "_view_module": "@jupyter-widgets/base",
            "_view_module_version": "1.2.0",
            "_view_name": "LayoutView",
            "align_content": null,
            "align_items": null,
            "align_self": null,
            "border": null,
            "bottom": null,
            "display": null,
            "flex": null,
            "flex_flow": null,
            "grid_area": null,
            "grid_auto_columns": null,
            "grid_auto_flow": null,
            "grid_auto_rows": null,
            "grid_column": null,
            "grid_gap": null,
            "grid_row": null,
            "grid_template_areas": null,
            "grid_template_columns": null,
            "grid_template_rows": null,
            "height": null,
            "justify_content": null,
            "justify_items": null,
            "left": null,
            "margin": null,
            "max_height": null,
            "max_width": null,
            "min_height": null,
            "min_width": null,
            "object_fit": null,
            "object_position": null,
            "order": null,
            "overflow": null,
            "overflow_x": null,
            "overflow_y": null,
            "padding": null,
            "right": null,
            "top": null,
            "visibility": null,
            "width": null
          }
        },
        "a698b4fade514bc48cabe1a863838ff9": {
          "model_module": "@jupyter-widgets/controls",
          "model_name": "DescriptionStyleModel",
          "model_module_version": "1.5.0",
          "state": {
            "_model_module": "@jupyter-widgets/controls",
            "_model_module_version": "1.5.0",
            "_model_name": "DescriptionStyleModel",
            "_view_count": null,
            "_view_module": "@jupyter-widgets/base",
            "_view_module_version": "1.2.0",
            "_view_name": "StyleView",
            "description_width": ""
          }
        },
        "87c97bf1b83d49a9a0f6b86907e2bbdf": {
          "model_module": "@jupyter-widgets/base",
          "model_name": "LayoutModel",
          "model_module_version": "1.2.0",
          "state": {
            "_model_module": "@jupyter-widgets/base",
            "_model_module_version": "1.2.0",
            "_model_name": "LayoutModel",
            "_view_count": null,
            "_view_module": "@jupyter-widgets/base",
            "_view_module_version": "1.2.0",
            "_view_name": "LayoutView",
            "align_content": null,
            "align_items": null,
            "align_self": null,
            "border": null,
            "bottom": null,
            "display": null,
            "flex": null,
            "flex_flow": null,
            "grid_area": null,
            "grid_auto_columns": null,
            "grid_auto_flow": null,
            "grid_auto_rows": null,
            "grid_column": null,
            "grid_gap": null,
            "grid_row": null,
            "grid_template_areas": null,
            "grid_template_columns": null,
            "grid_template_rows": null,
            "height": null,
            "justify_content": null,
            "justify_items": null,
            "left": null,
            "margin": null,
            "max_height": null,
            "max_width": null,
            "min_height": null,
            "min_width": null,
            "object_fit": null,
            "object_position": null,
            "order": null,
            "overflow": null,
            "overflow_x": null,
            "overflow_y": null,
            "padding": null,
            "right": null,
            "top": null,
            "visibility": null,
            "width": null
          }
        },
        "819710f79b2f4387bdc6c191caa7b288": {
          "model_module": "@jupyter-widgets/controls",
          "model_name": "ProgressStyleModel",
          "model_module_version": "1.5.0",
          "state": {
            "_model_module": "@jupyter-widgets/controls",
            "_model_module_version": "1.5.0",
            "_model_name": "ProgressStyleModel",
            "_view_count": null,
            "_view_module": "@jupyter-widgets/base",
            "_view_module_version": "1.2.0",
            "_view_name": "StyleView",
            "bar_color": null,
            "description_width": ""
          }
        },
        "3f64868da483484b9079ea78fb5faa53": {
          "model_module": "@jupyter-widgets/base",
          "model_name": "LayoutModel",
          "model_module_version": "1.2.0",
          "state": {
            "_model_module": "@jupyter-widgets/base",
            "_model_module_version": "1.2.0",
            "_model_name": "LayoutModel",
            "_view_count": null,
            "_view_module": "@jupyter-widgets/base",
            "_view_module_version": "1.2.0",
            "_view_name": "LayoutView",
            "align_content": null,
            "align_items": null,
            "align_self": null,
            "border": null,
            "bottom": null,
            "display": null,
            "flex": null,
            "flex_flow": null,
            "grid_area": null,
            "grid_auto_columns": null,
            "grid_auto_flow": null,
            "grid_auto_rows": null,
            "grid_column": null,
            "grid_gap": null,
            "grid_row": null,
            "grid_template_areas": null,
            "grid_template_columns": null,
            "grid_template_rows": null,
            "height": null,
            "justify_content": null,
            "justify_items": null,
            "left": null,
            "margin": null,
            "max_height": null,
            "max_width": null,
            "min_height": null,
            "min_width": null,
            "object_fit": null,
            "object_position": null,
            "order": null,
            "overflow": null,
            "overflow_x": null,
            "overflow_y": null,
            "padding": null,
            "right": null,
            "top": null,
            "visibility": null,
            "width": null
          }
        },
        "af49bfa469f546979184b85c6d56648c": {
          "model_module": "@jupyter-widgets/controls",
          "model_name": "DescriptionStyleModel",
          "model_module_version": "1.5.0",
          "state": {
            "_model_module": "@jupyter-widgets/controls",
            "_model_module_version": "1.5.0",
            "_model_name": "DescriptionStyleModel",
            "_view_count": null,
            "_view_module": "@jupyter-widgets/base",
            "_view_module_version": "1.2.0",
            "_view_name": "StyleView",
            "description_width": ""
          }
        },
        "b99c25bdfbea47a1b850acec2220ea15": {
          "model_module": "@jupyter-widgets/controls",
          "model_name": "HBoxModel",
          "model_module_version": "1.5.0",
          "state": {
            "_dom_classes": [],
            "_model_module": "@jupyter-widgets/controls",
            "_model_module_version": "1.5.0",
            "_model_name": "HBoxModel",
            "_view_count": null,
            "_view_module": "@jupyter-widgets/controls",
            "_view_module_version": "1.5.0",
            "_view_name": "HBoxView",
            "box_style": "",
            "children": [
              "IPY_MODEL_c6cadc66d9c04891bdf9a7703d616b72",
              "IPY_MODEL_3aac67fb8bba4480a41cc2f96cdd0c47",
              "IPY_MODEL_37f91c601d9c43cc9d884f185f2682b3"
            ],
            "layout": "IPY_MODEL_f9f94baff406457db6829eafb5ca2d95"
          }
        },
        "c6cadc66d9c04891bdf9a7703d616b72": {
          "model_module": "@jupyter-widgets/controls",
          "model_name": "HTMLModel",
          "model_module_version": "1.5.0",
          "state": {
            "_dom_classes": [],
            "_model_module": "@jupyter-widgets/controls",
            "_model_module_version": "1.5.0",
            "_model_name": "HTMLModel",
            "_view_count": null,
            "_view_module": "@jupyter-widgets/controls",
            "_view_module_version": "1.5.0",
            "_view_name": "HTMLView",
            "description": "",
            "description_tooltip": null,
            "layout": "IPY_MODEL_26d8a57c85cb4470a5f8803b7f0c9ccd",
            "placeholder": "​",
            "style": "IPY_MODEL_7e5bb79371cd487c8d367dccda8267a8",
            "value": "model.safetensors: 100%"
          }
        },
        "3aac67fb8bba4480a41cc2f96cdd0c47": {
          "model_module": "@jupyter-widgets/controls",
          "model_name": "FloatProgressModel",
          "model_module_version": "1.5.0",
          "state": {
            "_dom_classes": [],
            "_model_module": "@jupyter-widgets/controls",
            "_model_module_version": "1.5.0",
            "_model_name": "FloatProgressModel",
            "_view_count": null,
            "_view_module": "@jupyter-widgets/controls",
            "_view_module_version": "1.5.0",
            "_view_name": "ProgressView",
            "bar_style": "success",
            "description": "",
            "description_tooltip": null,
            "layout": "IPY_MODEL_23f135e13a5449dc8b90fdd3f01feec9",
            "max": 440449768,
            "min": 0,
            "orientation": "horizontal",
            "style": "IPY_MODEL_7257b6600ee9432f9a8ccb36b57ca7c9",
            "value": 440449768
          }
        },
        "37f91c601d9c43cc9d884f185f2682b3": {
          "model_module": "@jupyter-widgets/controls",
          "model_name": "HTMLModel",
          "model_module_version": "1.5.0",
          "state": {
            "_dom_classes": [],
            "_model_module": "@jupyter-widgets/controls",
            "_model_module_version": "1.5.0",
            "_model_name": "HTMLModel",
            "_view_count": null,
            "_view_module": "@jupyter-widgets/controls",
            "_view_module_version": "1.5.0",
            "_view_name": "HTMLView",
            "description": "",
            "description_tooltip": null,
            "layout": "IPY_MODEL_f71c180157244bfbb53a9665cf3b6254",
            "placeholder": "​",
            "style": "IPY_MODEL_59bba43efd18487ab8b6f09ea3f1b9dc",
            "value": " 440M/440M [00:02&lt;00:00, 217MB/s]"
          }
        },
        "f9f94baff406457db6829eafb5ca2d95": {
          "model_module": "@jupyter-widgets/base",
          "model_name": "LayoutModel",
          "model_module_version": "1.2.0",
          "state": {
            "_model_module": "@jupyter-widgets/base",
            "_model_module_version": "1.2.0",
            "_model_name": "LayoutModel",
            "_view_count": null,
            "_view_module": "@jupyter-widgets/base",
            "_view_module_version": "1.2.0",
            "_view_name": "LayoutView",
            "align_content": null,
            "align_items": null,
            "align_self": null,
            "border": null,
            "bottom": null,
            "display": null,
            "flex": null,
            "flex_flow": null,
            "grid_area": null,
            "grid_auto_columns": null,
            "grid_auto_flow": null,
            "grid_auto_rows": null,
            "grid_column": null,
            "grid_gap": null,
            "grid_row": null,
            "grid_template_areas": null,
            "grid_template_columns": null,
            "grid_template_rows": null,
            "height": null,
            "justify_content": null,
            "justify_items": null,
            "left": null,
            "margin": null,
            "max_height": null,
            "max_width": null,
            "min_height": null,
            "min_width": null,
            "object_fit": null,
            "object_position": null,
            "order": null,
            "overflow": null,
            "overflow_x": null,
            "overflow_y": null,
            "padding": null,
            "right": null,
            "top": null,
            "visibility": null,
            "width": null
          }
        },
        "26d8a57c85cb4470a5f8803b7f0c9ccd": {
          "model_module": "@jupyter-widgets/base",
          "model_name": "LayoutModel",
          "model_module_version": "1.2.0",
          "state": {
            "_model_module": "@jupyter-widgets/base",
            "_model_module_version": "1.2.0",
            "_model_name": "LayoutModel",
            "_view_count": null,
            "_view_module": "@jupyter-widgets/base",
            "_view_module_version": "1.2.0",
            "_view_name": "LayoutView",
            "align_content": null,
            "align_items": null,
            "align_self": null,
            "border": null,
            "bottom": null,
            "display": null,
            "flex": null,
            "flex_flow": null,
            "grid_area": null,
            "grid_auto_columns": null,
            "grid_auto_flow": null,
            "grid_auto_rows": null,
            "grid_column": null,
            "grid_gap": null,
            "grid_row": null,
            "grid_template_areas": null,
            "grid_template_columns": null,
            "grid_template_rows": null,
            "height": null,
            "justify_content": null,
            "justify_items": null,
            "left": null,
            "margin": null,
            "max_height": null,
            "max_width": null,
            "min_height": null,
            "min_width": null,
            "object_fit": null,
            "object_position": null,
            "order": null,
            "overflow": null,
            "overflow_x": null,
            "overflow_y": null,
            "padding": null,
            "right": null,
            "top": null,
            "visibility": null,
            "width": null
          }
        },
        "7e5bb79371cd487c8d367dccda8267a8": {
          "model_module": "@jupyter-widgets/controls",
          "model_name": "DescriptionStyleModel",
          "model_module_version": "1.5.0",
          "state": {
            "_model_module": "@jupyter-widgets/controls",
            "_model_module_version": "1.5.0",
            "_model_name": "DescriptionStyleModel",
            "_view_count": null,
            "_view_module": "@jupyter-widgets/base",
            "_view_module_version": "1.2.0",
            "_view_name": "StyleView",
            "description_width": ""
          }
        },
        "23f135e13a5449dc8b90fdd3f01feec9": {
          "model_module": "@jupyter-widgets/base",
          "model_name": "LayoutModel",
          "model_module_version": "1.2.0",
          "state": {
            "_model_module": "@jupyter-widgets/base",
            "_model_module_version": "1.2.0",
            "_model_name": "LayoutModel",
            "_view_count": null,
            "_view_module": "@jupyter-widgets/base",
            "_view_module_version": "1.2.0",
            "_view_name": "LayoutView",
            "align_content": null,
            "align_items": null,
            "align_self": null,
            "border": null,
            "bottom": null,
            "display": null,
            "flex": null,
            "flex_flow": null,
            "grid_area": null,
            "grid_auto_columns": null,
            "grid_auto_flow": null,
            "grid_auto_rows": null,
            "grid_column": null,
            "grid_gap": null,
            "grid_row": null,
            "grid_template_areas": null,
            "grid_template_columns": null,
            "grid_template_rows": null,
            "height": null,
            "justify_content": null,
            "justify_items": null,
            "left": null,
            "margin": null,
            "max_height": null,
            "max_width": null,
            "min_height": null,
            "min_width": null,
            "object_fit": null,
            "object_position": null,
            "order": null,
            "overflow": null,
            "overflow_x": null,
            "overflow_y": null,
            "padding": null,
            "right": null,
            "top": null,
            "visibility": null,
            "width": null
          }
        },
        "7257b6600ee9432f9a8ccb36b57ca7c9": {
          "model_module": "@jupyter-widgets/controls",
          "model_name": "ProgressStyleModel",
          "model_module_version": "1.5.0",
          "state": {
            "_model_module": "@jupyter-widgets/controls",
            "_model_module_version": "1.5.0",
            "_model_name": "ProgressStyleModel",
            "_view_count": null,
            "_view_module": "@jupyter-widgets/base",
            "_view_module_version": "1.2.0",
            "_view_name": "StyleView",
            "bar_color": null,
            "description_width": ""
          }
        },
        "f71c180157244bfbb53a9665cf3b6254": {
          "model_module": "@jupyter-widgets/base",
          "model_name": "LayoutModel",
          "model_module_version": "1.2.0",
          "state": {
            "_model_module": "@jupyter-widgets/base",
            "_model_module_version": "1.2.0",
            "_model_name": "LayoutModel",
            "_view_count": null,
            "_view_module": "@jupyter-widgets/base",
            "_view_module_version": "1.2.0",
            "_view_name": "LayoutView",
            "align_content": null,
            "align_items": null,
            "align_self": null,
            "border": null,
            "bottom": null,
            "display": null,
            "flex": null,
            "flex_flow": null,
            "grid_area": null,
            "grid_auto_columns": null,
            "grid_auto_flow": null,
            "grid_auto_rows": null,
            "grid_column": null,
            "grid_gap": null,
            "grid_row": null,
            "grid_template_areas": null,
            "grid_template_columns": null,
            "grid_template_rows": null,
            "height": null,
            "justify_content": null,
            "justify_items": null,
            "left": null,
            "margin": null,
            "max_height": null,
            "max_width": null,
            "min_height": null,
            "min_width": null,
            "object_fit": null,
            "object_position": null,
            "order": null,
            "overflow": null,
            "overflow_x": null,
            "overflow_y": null,
            "padding": null,
            "right": null,
            "top": null,
            "visibility": null,
            "width": null
          }
        },
        "59bba43efd18487ab8b6f09ea3f1b9dc": {
          "model_module": "@jupyter-widgets/controls",
          "model_name": "DescriptionStyleModel",
          "model_module_version": "1.5.0",
          "state": {
            "_model_module": "@jupyter-widgets/controls",
            "_model_module_version": "1.5.0",
            "_model_name": "DescriptionStyleModel",
            "_view_count": null,
            "_view_module": "@jupyter-widgets/base",
            "_view_module_version": "1.2.0",
            "_view_name": "StyleView",
            "description_width": ""
          }
        }
      }
    }
  },
  "nbformat": 4,
  "nbformat_minor": 0
}